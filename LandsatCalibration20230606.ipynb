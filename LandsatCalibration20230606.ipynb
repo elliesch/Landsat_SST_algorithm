{
 "cells": [
  {
   "cell_type": "markdown",
   "metadata": {
    "user_expressions": []
   },
   "source": [
    "# Landsat calibration using MODIS SST\n",
    "Create matchups between Landsat and MODIS SST data near Cosgrove, West Antarctica\n",
    "to produce a calibration for Landsat SSTs"
   ]
  },
  {
   "cell_type": "code",
   "execution_count": null,
   "metadata": {
    "tags": []
   },
   "outputs": [],
   "source": [
    "%conda install pygmt"
   ]
  },
  {
   "cell_type": "code",
   "execution_count": 2,
   "metadata": {
    "tags": []
   },
   "outputs": [],
   "source": [
    "# Import libraries and modules\n",
    "%config InlineBackend.figure_format = 'svg'\n",
    "%matplotlib widget\n",
    "import pandas as pd\n",
    "import xarray as xr\n",
    "import geopandas as gpd\n",
    "from datetime import date, timedelta, datetime\n",
    "import numpy as np\n",
    "import matplotlib.pylab as plt\n",
    "from matplotlib import colors\n",
    "from matplotlib.pylab import rcParams\n",
    "import cartopy.crs as ccrs\n",
    "import cartopy\n",
    "\n",
    "import os\n",
    "from cycler import cycler\n",
    "import pyproj\n",
    "from pyproj import Proj, transform\n",
    "from sklearn.neighbors import BallTree\n",
    "import pytz\n",
    "import pygmt\n",
    "import gc\n",
    "import copy\n",
    "import random\n",
    "import statsmodels.formula.api as sm\n",
    "from sklearn.linear_model import RANSACRegressor\n",
    "from sklearn.linear_model import LinearRegression\n",
    "\n",
    "import warnings\n",
    "warnings.filterwarnings('ignore')"
   ]
  },
  {
   "cell_type": "code",
   "execution_count": 3,
   "metadata": {
    "tags": []
   },
   "outputs": [],
   "source": [
    "#For color cycling in plots that is color blind friendly...make new ones at \"I want hue\" tools.medialab.sciences-po.fr/iwanthue\n",
    "color_cycler = cycler(color=[\"#6777cf\",\"#adba49\",\"#c65ca0\",\"#5fa042\",\"#683287\",\"#72ce7b\",\"#c44a48\",\"#45c7a9\",\"#933c1d\",\"#d0803f\",\"#ac9239\",\"#317c39\"])\n",
    "colorline_cycler = (cycler(color=[\"#75a141\",\"#6c61b9\",\"#bc4d45\",\"#c1913d\",\"#b85298\",\"#4aa8e8\"]) +\n",
    "                 cycler(linestyle=['-','--',':','-.','-','--']))\n",
    "rcParams['axes.prop_cycle'] = cycler('color', color_cycler)"
   ]
  },
  {
   "cell_type": "markdown",
   "metadata": {
    "tags": [],
    "user_expressions": []
   },
   "source": [
    "## Build Landsat - MODIS SST matchups"
   ]
  },
  {
   "cell_type": "code",
   "execution_count": 4,
   "metadata": {
    "tags": []
   },
   "outputs": [],
   "source": [
    "# Import earthaccess Library and view version\n",
    "import earthaccess"
   ]
  },
  {
   "cell_type": "code",
   "execution_count": 5,
   "metadata": {
    "tags": []
   },
   "outputs": [],
   "source": [
    "# Set paths and important variables\n",
    "sstpath = '/home/jovyan/Data/SST/MODcalib/'\n",
    "spacing = [990,-990] # 300m sampling of MODIS data so that upsampling is easy and because 30m takes far too long\n",
    "param = 'sea_surface_temperature'"
   ]
  },
  {
   "cell_type": "code",
   "execution_count": 6,
   "metadata": {
    "tags": []
   },
   "outputs": [
    {
     "name": "stdout",
     "output_type": "stream",
     "text": [
      "You're now authenticated with NASA Earthdata Login\n",
      "Using token with expiration date: 07/07/2023\n",
      "Using .netrc file for EDL\n"
     ]
    }
   ],
   "source": [
    "# Authenticate for accessing NASA data (MODIS)\n",
    "auth = earthaccess.login(strategy=\"netrc\")\n",
    "# are we authenticated?\n",
    "if not auth.authenticated:\n",
    "    # ask for credentials and persist them in a .netrc file\n",
    "    auth.login(strategy=\"interactive\", persist=True)"
   ]
  },
  {
   "cell_type": "code",
   "execution_count": 7,
   "metadata": {
    "tags": []
   },
   "outputs": [],
   "source": [
    "def find_MODIS(ls_scene):\n",
    "    '''\n",
    "    Finds the MODIS scene most closely coincident to a Landsat scene\n",
    "    \n",
    "    Variables: \n",
    "    ls_scene = xarray for one Landsat scene\n",
    "    \n",
    "    Outputs:\n",
    "    mod_scene = xarray of MODIS SST image coincident in time with the Landsat scene\n",
    "    granules[ind]['umm']['GranuleUR'] = modis file name\n",
    "    '''\n",
    "    \n",
    "    ULX = ls_scene.x[0] \n",
    "    ULY = ls_scene.y[0]  \n",
    "    LRX = ls_scene.x[-1] \n",
    "    LRY = ls_scene.y[-1]\n",
    "    \n",
    "    # Get the existing coordinate system\n",
    "    old_cs = ls_scene.rio.crs #crs[6:] # 'epsg:3031'\n",
    "    new_cs = 'epsg:4326'\n",
    "\n",
    "    # Create a transform object to convert between coordinate systems\n",
    "    inProj = Proj(init=old_cs)\n",
    "    outProj = Proj(init=new_cs)\n",
    "\n",
    "    [ULX,LRX], [ULY,LRY] =  transform(inProj,outProj,[ULX,LRX], [ULY,LRY], always_xy=True)\n",
    "\n",
    "    bbox = (ULX,LRY,LRX,ULY)\n",
    "\n",
    "    # Get date/time for Landsat image and search for corresponding MODIS imagery  \n",
    "    start_dt = ls_time.strftime('%Y-%m-%d')\n",
    "    calc_dt = datetime.strptime(start_dt, '%Y-%m-%d')\n",
    "    end_dt = (calc_dt + timedelta(days=1)).strftime('%Y-%m-%d')\n",
    "\n",
    "    # Gather all files from search location from Terra and Aqua for the same day as the Landsat image\n",
    "    granules = earthaccess.search_data(\n",
    "        short_name='MODIS_T-JPL-L2P-v2019.0',\n",
    "        bounding_box=bbox,\n",
    "        # Day of a landsat scene to day after - searches day of only\n",
    "        temporal=(start_dt,end_dt)\n",
    "    )\n",
    "    granules2 = earthaccess.search_data(\n",
    "        short_name='MODIS_A-JPL-L2P-v2019.0', #MODIS_AQUA_L3_SST_THERMAL_DAILY_4KM_NIGHTTIME_V2019.0\n",
    "        bounding_box=bbox,\n",
    "        # Day of a landsat scene to day after - searches day of only\n",
    "        temporal=(start_dt,end_dt)\n",
    "    )\n",
    "    granules = granules + granules2\n",
    "    print (f'{len(granules)} TOTAL')\n",
    "    \n",
    "    # Find MODIS image closest in time to each Landsat image\n",
    "    # make Landsat datetime timezone aware (UTC)\n",
    "    Mdates = [pd.to_datetime(granule['umm']['TemporalExtent']['RangeDateTime']['BeginningDateTime']) for granule in granules]\n",
    "    ind = Mdates.index(min( Mdates, key=lambda x: abs(x - pytz.utc.localize(ls_time))))\n",
    "\n",
    "    mod_scene = xr.open_dataset(earthaccess.open(granules[ind:ind+1])[0])\n",
    "    mod_scene = mod_scene.rio.write_crs(\"epsg:4326\", inplace=True)\n",
    "    \n",
    "    return mod_scene, granules[ind]['umm']['GranuleUR']\n",
    "\n",
    "########################## \n",
    "\n",
    "def get_wv(ls_scene,mod07,spacing,param):\n",
    "    '''\n",
    "    ***This is copied in LandsatCalibration, modifications have been made but some may tranfer\n",
    "    \n",
    "    Create MODIS files aligned and subsampled to Landsat\n",
    "    \n",
    "    Variables:\n",
    "    ls_scene = xarray dataset of a Landsat scene\n",
    "    mod07 = xarray datarray with MODIS data\n",
    "    spacing = list of desired spatial resolution of output data from the alignment of MODIS to Landsat in y and x (e.g.,[300,-300])\n",
    "    param = string for desired dataset from MODIS file\n",
    "    \n",
    "    Output:\n",
    "    WV_xr = xarray dataarray of Landsat aligned and upsampled modis data from desired dataset\n",
    "    \n",
    "    '''\n",
    "    # Read in desired variables and paths\n",
    "    \n",
    "    uniqWV = []\n",
    "    gdalstr = []\n",
    "\n",
    "    ULX = ls_scene.x[0] \n",
    "    ULY = ls_scene.y[0]\n",
    "    LRX = ls_scene.x[-1]\n",
    "    LRY = ls_scene.y[-1] \n",
    "    box = [ULX,LRX,ULY,LRY]\n",
    "\n",
    "    mod = 0\n",
    "              \n",
    "    # Produce indicies for aligning MODIS pixel subset to match Landsat image at 4000m (or 300)resolution\n",
    "    indiciesMOD,lines,samples,x1,y1 = MODISlookup(mod07,ls_scene,box,spacing)\n",
    "\n",
    "    # Align MODIS WV to Landsat on slightly upsampled grid\n",
    "    dataOutWV,uniqImgWV = uniqueMODIS(mod07,indiciesMOD,lines,samples) # dataOut = MODIS data aligned and subset to Lsat scene\n",
    "\n",
    "    red_y = int(abs(spacing[0]/30))\n",
    "    red_x = int(abs(spacing[1]/30))\n",
    "    dataOutWV_xr = xr.DataArray(dataOutWV,name='SST',dims=[\"y\",\"x\"], coords={\"latitude\": ([\"y\"],ls_scene.y.values[::red_y]), \"longitude\": ([\"x\"],ls_scene.x.values[::red_x])})\n",
    "\n",
    "    # Resample MODIS to Landsat resolution and interpolate with B-spline\n",
    "    # Output of shape fits and need to adjust x and y coords cuz are wrong\n",
    "    ups_factor = 30/spacing[0]\n",
    "    WV_upsample = pygmt.grdsample(grid=dataOutWV_xr, spacing=f'{ups_factor}k',interpolation='b')\n",
    "\n",
    "    # Put into Xarray\n",
    "    latnew = np.arange(dataOutWV_xr.latitude[0],dataOutWV_xr.latitude[-1]+1,(dataOutWV_xr.latitude[-1]-dataOutWV_xr.latitude[0])/(WV_upsample.shape[0]-1))\n",
    "    lonnew = np.arange(dataOutWV_xr.longitude[0],dataOutWV_xr.longitude[-1]+1,(dataOutWV_xr.longitude[-1]-dataOutWV_xr.longitude[0])/(WV_upsample.shape[1]-1))\n",
    "    WV_xr = xr.DataArray(WV_upsample,name='SST',dims=[\"y\",\"x\"], coords={\"latitude\": ([\"y\"],latnew), \"longitude\": ([\"x\"],lonnew)})\n",
    "    WV_xr = WV_xr.rio.write_crs(\"epsg:3031\", inplace=True)\n",
    "    WV_xr = WV_xr.rename({'longitude':'x','latitude':'y'})\n",
    "    WV_xr = WV_xr.set_index(x='x')\n",
    "    WV_xr = WV_xr.set_index(y='y')\n",
    "\n",
    "    #Append WV values\n",
    "    uniqWV.append(uniqImgWV)\n",
    "    mod = 1 \n",
    "    \n",
    "    try:\n",
    "        # Min and max MODIS values for a scene\n",
    "        maxi =[]\n",
    "        mini =[]\n",
    "        for m in uniqWV:\n",
    "            maxi.append(max(m))\n",
    "            mini.append(min(m))\n",
    "\n",
    "        print (f'Max {param}: {np.max(maxi)}, min: {np.min(mini)}')\n",
    "    except:\n",
    "        print (f'Max {param}: {np.nan}, min: {np.nan}')\n",
    "    \n",
    "    return WV_xr\n",
    "           \n",
    "##########################           \n",
    "\n",
    "def MODISlookup (mod07,lsat_filt_msk,box,spacing):\n",
    "    '''\n",
    "    Look up atmospheric consituents from MODIS product for each Landsat pixel\n",
    "    # Modified from http://stackoverflow.com/questions/2922532/obtain-latitude-and-longitude-from-a-geotiff-file \n",
    "    # and Shane Grigsby\n",
    "\n",
    "    Variables:    \n",
    "    mod07 = xarray with MODIS data with crs 4326 assigned\n",
    "    lsat_filt_msk =  Landsat xarray DataArray\n",
    "    box = list with [left easting,right easting,top northing,bottom northing]\n",
    "    spacing = desired pixel size for extraction, list of [east/west, north/south] \n",
    "          (recommend choosing a number that allows for fast calculations and even division by 30)\n",
    "\n",
    "    Output:\n",
    "    indiciesMOD = indicies used to project MODIS pixels to match Landsat pixels\n",
    "    lines = number of lines in Landsat file/MODIS output shape\n",
    "    samples = number of samples in Landsat file/MODIS output shape\n",
    "    x1,y1 = x and y coordinates for grid\n",
    "    '''\n",
    "    \n",
    "    lat, lon = mod07.lat, mod07.lon\n",
    "\n",
    "    # Get the existing coordinate system\n",
    "    old_cs = ls_scene.rio.crs #crs[6:] # 'epsg:3031'\n",
    "    new_cs = mod07.rio.crs #'epsg:4326'\n",
    "\n",
    "    # Create a transform object to convert between coordinate systems\n",
    "    inProj = Proj(init=old_cs)\n",
    "    outProj = Proj(init=new_cs)\n",
    "\n",
    "    # Parse coordinates and spacing to different variables\n",
    "    west = box[0]\n",
    "    east = box[1]\n",
    "    north = box[2]\n",
    "    south = box[3]\n",
    "    ewspace = spacing[0]\n",
    "    nsspace = spacing[1]\n",
    "\n",
    "    # Setting up grid, x coord from here to here at this spacing, mesh grid makes 2D\n",
    "    samples = len(np.r_[west:east+1:ewspace])\n",
    "    lines = len(np.r_[south:north-1:nsspace])#ns space is -300, could also do 30 instead of 300, but would just have duplicate pixels\n",
    "    \n",
    "    # x1, y1 = np.meshgrid(np.r_[west:east:ewspace],np.r_[north:south:nsspace]) # offset by 1 meter to preserve shape\n",
    "    ewdnsamp = int(spacing[0]/30)\n",
    "    nsdnsamp = int(spacing[1]/30)\n",
    "    x1, y1 = np.meshgrid(ls_scene.x.values[::ewdnsamp],ls_scene.y.values[::nsdnsamp])\n",
    "    LScoords = np.vstack([x1.ravel(),y1.ravel()]).T\n",
    "\n",
    "    # Ravel so ND can lookup easily\n",
    "    # Convert from map coords to lat lon --> x = lon, y = lat\n",
    "    xs, ys =  transform(inProj,outProj,LScoords[:,0], LScoords[:,1], radians=True, always_xy=True)\n",
    "    grid_coords = np.vstack([ys.ravel(),xs.ravel()]).T # note y / x switch (i.e., lat long convention)\n",
    "    \n",
    "    if len(grid_coords) != lines*samples:\n",
    "        return print (f'Size of grid coordinates do not match low resolution Landsat dims: {len(grid_coords)} vs. {lines*samples}')\n",
    "    MODIS_coords = np.vstack([lat.values.ravel(),lon.values.ravel()]).T\n",
    "    MODIS_coords *= np.pi / 180. # to radians\n",
    "    \n",
    "    # Build lookup, haversine = calc dist between lat,lon pairs so can do nearest neighbor on sphere - if did utm it would be planar\n",
    "    MOD_Ball = BallTree(MODIS_coords,metric='haversine') #sklearn library\n",
    "    #LS_Ball = BallTree(grid_coords,metric='haversine') # In case want reverse coordinate for Landsat\n",
    "    # Query modis coords with landsat coords, gives distance between and index for nearest neighbor\n",
    "    distanceMOD, indiciesMOD= MOD_Ball.query(grid_coords, dualtree=True, breadth_first=True)\n",
    "        \n",
    "    return indiciesMOD,lines,samples,x1,y1\n",
    "\n",
    "##########################\n",
    "\n",
    "def uniqueMODIS(mod07,indiciesMOD,lines,samples):\n",
    "    '''\n",
    "    Extracts data values and unique values from desired MODIS dataset that corresponds to Landsat file\n",
    "    # Modified from http://stackoverflow.com/questions/2922532/obtain-latitude-and-longitude-from-a-geotiff-file\n",
    "    \n",
    "    Variables: \n",
    "    mod07 = xarray with MODIS data with crs 4326 assigned    \n",
    "    indiciesMOD = indicies output for neighest neighbor query from MODIS to Landsat coordinates\n",
    "    lines = number of lines in Landsat file/MODIS output shape\n",
    "    samples = number of samples in Landsat file/MODIS output shape\n",
    "    \n",
    "    Output:\n",
    "    dataOut = MODIS atm image subset and aligned to Landsat image pixels\n",
    "    uniq = uniq MODIS atm values within area of Landsat image\n",
    "    #counts = count for each unique value in subset\n",
    "    '''\n",
    "\n",
    "    #Extract desired datasets from MODIS file from lookup key\n",
    "    data = mod07[0,:,:]\n",
    "    lat, lon = mod07.lat, mod07.lon\n",
    "    #data.attributes()\n",
    "\n",
    "    if (np.shape(lat)== np.shape(lon)== np.shape(data))==False:\n",
    "        print (\"Error in creating indicies, lat/lon and data shapes do not match\")\n",
    "\n",
    "    # Reproject data from MODIS into corresponding postions for Landsat pixels for the desired dataset\n",
    "    if param == 'sea_surface_temperature':\n",
    "        dataOut = np.reshape(np.array(data.values.ravel())[indiciesMOD],(lines,samples))-273.15#* # to scale?\n",
    "        dataOut[dataOut < -3] = np.nan\n",
    "        # MODimg = np.array(data.values)#* # to scale?\n",
    "        # MODimg[MODimg < 0] = np.nan\n",
    "    if param == 'Water_Vapor':\n",
    "        dataOut = np.reshape(np.array(data.values.ravel())[indiciesMOD]*0.0010000000474974513,(lines,samples))\n",
    "        dataOut[dataOut < 0] = np.nan\n",
    "        MODimg = np.array(data.values*0.001000000047497451)\n",
    "        MODimg[MODimg < 0] = np.nan\n",
    "    if param == 'Total_Ozone':\n",
    "        dataOut = np.reshape(np.array(data.values.ravel())[indiciesMOD]*0.10000000149011612,(lines,samples))\n",
    "        dataOut[dataOut < 225] = np.nan\n",
    "        dataOut[dataOut > 430] = np.nan\n",
    "        MODimg = np.array(data.values*0.10000000149011612)\n",
    "        MODimg[MODimg < 0] = np.nan\n",
    "\n",
    "    # Get unique values for datasets within Landsat extent\n",
    "    #uniq, inverse, counts= np.unique(dataOut, return_inverse=True, return_counts=True)\n",
    "    uniq = set(dataOut[np.isfinite(dataOut)])\n",
    "    return dataOut,uniq # Can also output MODimg and inverse and counts if desired\n",
    "\n",
    "##########################\n",
    "\n",
    "# Preprocess to add time dimension to open_mfdataset for landsat using the filename\n",
    "def add_time_dim(ds):\n",
    "    lstr = ds.encoding[\"source\"].split(\"LC0\",1)[1]\n",
    "    times = pd.to_datetime(lstr[14:22]+lstr[38:44], format='%Y%m%d%H%M%S')\n",
    "    return ds.assign(time=times)"
   ]
  },
  {
   "cell_type": "code",
   "execution_count": 39,
   "metadata": {
    "tags": []
   },
   "outputs": [
    {
     "name": "stdout",
     "output_type": "stream",
     "text": [
      "7\n"
     ]
    }
   ],
   "source": [
    "# Get Landsat file paths in directory\n",
    "lsatfiles = os.listdir(sstpath)\n",
    "lsatfiles = [x for x in lsatfiles if x[-3:] == 'tif']\n",
    "print (len(lsatfiles))\n",
    "\n",
    "os.chdir('/home/jovyan/Data/SST/MODcalib/')\n",
    "\n",
    "# Concatenate all landsat files into xarray with a time dimension\n",
    "ls_scenes = xr.open_mfdataset(lsatfiles,chunks=dict(x=512, y=512),combine='nested',preprocess=add_time_dim,concat_dim=\"time\",engine='rasterio')"
   ]
  },
  {
   "cell_type": "code",
   "execution_count": 8,
   "metadata": {
    "tags": []
   },
   "outputs": [],
   "source": [
    "# Calibration region bounding box\n",
    "latboundsC = [ -73.5 , -73.42 ]\n",
    "lonboundsC = [ -103.0 , -102.0 ]"
   ]
  },
  {
   "cell_type": "code",
   "execution_count": 10,
   "metadata": {
    "tags": []
   },
   "outputs": [],
   "source": [
    "# Convert bounding box to polar for checking if landsat has any data in bounding box\n",
    "# Speeds up process a lot\n",
    "source_crs = 'epsg:4326' \n",
    "target_crs = 'epsg:3031' # Coordinate system of the file\n",
    "\n",
    "topolar = pyproj.Transformer.from_crs(source_crs,target_crs)\n",
    "polarx,polary = topolar.transform([latboundsC[1],latboundsC[0]],[lonboundsC[0],lonboundsC[1]])"
   ]
  },
  {
   "cell_type": "code",
   "execution_count": 40,
   "metadata": {
    "tags": []
   },
   "outputs": [
    {
     "name": "stdout",
     "output_type": "stream",
     "text": [
      "LC08_L1GT_001112_20210119_20210307_02_T2_145134_Cel.tif\n",
      "nan\n",
      "LC08_L1GT_006112_20210122_20210305_02_T2_152229_Cel.tif\n",
      "nan\n",
      "LC08_L1GT_005112_20210131_20210302_02_T2_151617_Cel.tif\n",
      "-2.202589947184616\n",
      "Granules found: 27\n",
      "Granules found: 29\n",
      "56 TOTAL\n",
      " Opening 1 granules, approx size: 0.02 GB\n"
     ]
    },
    {
     "data": {
      "application/vnd.jupyter.widget-view+json": {
       "model_id": "5edba1216ba440919df142a586eaee03",
       "version_major": 2,
       "version_minor": 0
      },
      "text/plain": [
       "SUBMITTING | :   0%|          | 0/1 [00:00<?, ?it/s]"
      ]
     },
     "metadata": {},
     "output_type": "display_data"
    },
    {
     "data": {
      "application/vnd.jupyter.widget-view+json": {
       "model_id": "2454b63e380246b488b84bcec6b09e18",
       "version_major": 2,
       "version_minor": 0
      },
      "text/plain": [
       "PROCESSING | :   0%|          | 0/1 [00:00<?, ?it/s]"
      ]
     },
     "metadata": {},
     "output_type": "display_data"
    },
    {
     "data": {
      "application/vnd.jupyter.widget-view+json": {
       "model_id": "47dffdedf3b04c4e9a72fabe2b899f8c",
       "version_major": 2,
       "version_minor": 0
      },
      "text/plain": [
       "COLLECTING | :   0%|          | 0/1 [00:00<?, ?it/s]"
      ]
     },
     "metadata": {},
     "output_type": "display_data"
    },
    {
     "name": "stdout",
     "output_type": "stream",
     "text": [
      "20210131151501-JPL-L2P_GHRSST-SSTskin-MODIS_A-D-v02.0-fv01.0\n",
      "Max sea_surface_temperature: nan, min: nan\n",
      "MODIS mean: nan, Landsat 8: -2.202589947184616\n",
      "LC08_L1GT_155132_20210110_20210307_02_T2_065125_Cel.tif\n",
      "nan\n",
      "LC08_L1GT_157132_20210108_20210307_02_T2_070347_Cel.tif\n",
      "nan\n",
      "LC08_L1GT_004112_20210108_20210307_02_T2_151012_Cel.tif\n",
      "-2.360140698805573\n",
      "Granules found: 30\n",
      "Granules found: 26\n",
      "56 TOTAL\n",
      " Opening 1 granules, approx size: 0.02 GB\n"
     ]
    },
    {
     "data": {
      "application/vnd.jupyter.widget-view+json": {
       "model_id": "eb54cbf6471c49dfaea4ac3e18df612e",
       "version_major": 2,
       "version_minor": 0
      },
      "text/plain": [
       "SUBMITTING | :   0%|          | 0/1 [00:00<?, ?it/s]"
      ]
     },
     "metadata": {},
     "output_type": "display_data"
    },
    {
     "data": {
      "application/vnd.jupyter.widget-view+json": {
       "model_id": "2fd6940732134e5aa353c53aa31bcdf7",
       "version_major": 2,
       "version_minor": 0
      },
      "text/plain": [
       "PROCESSING | :   0%|          | 0/1 [00:00<?, ?it/s]"
      ]
     },
     "metadata": {},
     "output_type": "display_data"
    },
    {
     "data": {
      "application/vnd.jupyter.widget-view+json": {
       "model_id": "424876bb3f1941c0a432aaca9d46801d",
       "version_major": 2,
       "version_minor": 0
      },
      "text/plain": [
       "COLLECTING | :   0%|          | 0/1 [00:00<?, ?it/s]"
      ]
     },
     "metadata": {},
     "output_type": "display_data"
    },
    {
     "name": "stdout",
     "output_type": "stream",
     "text": [
      "20210108151001-JPL-L2P_GHRSST-SSTskin-MODIS_A-D-v02.0-fv01.0\n",
      "Max sea_surface_temperature: nan, min: nan\n",
      "MODIS mean: nan, Landsat 8: -2.360140698805573\n",
      "LC08_L1GT_002112_20210126_20210305_02_T2_145745_Cel.tif\n",
      "nan\n",
      "CPU times: user 4min 25s, sys: 1.32 s, total: 4min 26s\n",
      "Wall time: 5min 10s\n"
     ]
    }
   ],
   "source": [
    "%%time\n",
    "# ~2 min 12 sec per image\n",
    "\n",
    "lsat_mod = []\n",
    "\n",
    "# For each processed Landsat SST image in this region\n",
    "for timeidx in range(ls_scenes.time.shape[0]):\n",
    "    \n",
    "    # Open into xarray and assign proper epsg and datetime\n",
    "    ls_scene = ls_scenes.isel(time=timeidx)\n",
    "    ls_scene = ls_scene.assign_attrs({\"ID\": lsatfiles[timeidx]})\n",
    "    print (ls_scene.ID)\n",
    "    \n",
    "    ls_scene = ls_scene.rio.write_crs(\"epsg:3031\", inplace=True)\n",
    "    ls_time = pd.to_datetime(ls_scene.time.values)\n",
    "    \n",
    "    # Crop Landsat to region and take mean temp,  \n",
    "    # will skip the modis stage if no Landsat data in the calibration region\n",
    "    try:\n",
    "        # lsat = np.nanmean(ls_reproj.sel(y=slice(latboundsC[1],latboundsC[0]),x=slice(lonboundsC[0],lonboundsC[1])).to_array())\n",
    "        lsat = np.nanmean(ls_scene.sel(band=1,y=slice(polary[0],polary[1]),x=slice(polarx[0],polarx[1])).to_array())\n",
    "    except Exception as e:\n",
    "        print (ls_reproj.ID, e)\n",
    "        lsat = np.nan\n",
    "    \n",
    "    print(lsat)\n",
    "    if ~np.isfinite(lsat):\n",
    "        continue\n",
    "    \n",
    "    # Find coincident MODIS SST scene\n",
    "    mod_scene, mod_file = find_MODIS(ls_scene)\n",
    "    print(mod_file)\n",
    "    \n",
    "    try:\n",
    "        # Acquire and align MODIS data to Landsat ***this takes a while\n",
    "        MODsst_xr = get_wv(ls_scene,mod_scene.sea_surface_temperature,spacing,param)\n",
    "        \n",
    "        # # Reproject both to WGS84 - it might be better to crop in 3031 - x,y dimensions change with reprojection so maybe answers are changing...\n",
    "        # ls_reproj = ls_scene.rio.reproject(\"EPSG:4326\")\n",
    "        # mod_reproj = MODsst_xr.rio.reproject(\"EPSG:4326\")\n",
    "\n",
    "        # Crop to region and take mean temp, not sure why 0 (MOD09) vs -1 (GHRSST) work here\n",
    "        # modis = np.nanmean(mod_reproj.sel(y=slice(latboundsC[1],latboundsC[0]),x=slice(lonboundsC[0],lonboundsC[1])))\n",
    "        modis = np.nanmean(MODsst_xr.sel(y=slice(polary[0],polary[1]),x=slice(polarx[0],polarx[1])))\n",
    "        \n",
    "        del MODsst_xr\n",
    "        \n",
    "    except Exception as e:\n",
    "        print (mod_file, e)\n",
    "        modis = np.nan\n",
    "        \n",
    "    # Append file names with SST means from the Cosgrove box\n",
    "    lsat_mod.append([mod_file,modis,ls_scene.ID,lsat])\n",
    "    print (f'MODIS mean: {modis}, Landsat 8: {lsat}')\n",
    "    \n",
    "    del ls_scene, mod_scene\n",
    "        \n",
    "    gc.collect()"
   ]
  },
  {
   "cell_type": "code",
   "execution_count": 41,
   "metadata": {
    "tags": []
   },
   "outputs": [],
   "source": [
    "# Put data into DataFrame and save    \n",
    "headers = ['MODIS_filename','MODIS_SST','L8_filename','L8_SST']\n",
    "lsat_mod_df = pd.DataFrame(lsat_mod,columns=headers)\n",
    "out_df = '/home/jovyan/Data/MODISvLandsat_Cosgrove_20230627'\n",
    "lsat_mod_df.to_pickle(out_df)"
   ]
  },
  {
   "cell_type": "code",
   "execution_count": 35,
   "metadata": {
    "tags": []
   },
   "outputs": [],
   "source": [
    "# # Plot MODIS SST example\n",
    "# mod_reproj = MODsst_xr.rio.reproject(\"EPSG:4326\")\n",
    "\n",
    "# moddt = mod_reproj.sel(y=slice(-73.3,-73.6),x=slice(-105,-100))\n",
    "\n",
    "# plt.figure(figsize=(6, 3))\n",
    "# ax = plt.axes(projection=ccrs.PlateCarree())\n",
    "# ax.set_global()\n",
    "# ax.coastlines()\n",
    "# cb = ax.pcolormesh(moddt.x,moddt.y,moddt,vmin=-2.0,vmax=0.6,transform=ccrs.PlateCarree())\n",
    "# plt.plot([-103.0,-102.0,-102.0,-103.0,-103.0],[-73.5,-73.5,-73.42,-73.42,-73.5],lw=2,ls='--',color='k',transform=ccrs.PlateCarree())\n",
    "# ax.set_ylim([-73.8 , -73.1])\n",
    "# ax.set_xlim([-103.9,-101.5])\n",
    "# cbar = plt.colorbar(cb)\n",
    "# plt.tight_layout()"
   ]
  },
  {
   "cell_type": "code",
   "execution_count": 93,
   "metadata": {
    "tags": []
   },
   "outputs": [
    {
     "data": {
      "application/vnd.jupyter.widget-view+json": {
       "model_id": "d48d2b2b679b46f7afb82ee9b6c27ae3",
       "version_major": 2,
       "version_minor": 0
      },
      "image/png": "[encoded data removed]",
      "text/html": [
       "\n",
       "            <div style=\"display: inline-block;\">\n",
       "                <div class=\"jupyter-widgets widget-label\" style=\"text-align: center;\">\n",
       "                    Figure\n",
       "                </div>\n",
       "                <img src='data:image/png;base64,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' width=600.0/>\n",
       "            </div>\n",
       "        "
      ],
      "text/plain": [
       "Canvas(toolbar=Toolbar(toolitems=[('Home', 'Reset original view', 'home', 'home'), ('Back', 'Back to previous …"
      ]
     },
     "metadata": {},
     "output_type": "display_data"
    }
   ],
   "source": [
    "# # Plot Landsat SST example\n",
    "# ls_reproj = ls_scene.rio.reproject(\"EPSG:4326\")\n",
    "# lsdt = ls_reproj.sel(band=1,y=slice(-73.3,-73.6),x=slice(-105,-100)).band_data\n",
    "\n",
    "# plt.figure(figsize=(6, 3))\n",
    "# ax = plt.axes(projection=ccrs.PlateCarree())\n",
    "# ax.set_global()\n",
    "# ax.coastlines()\n",
    "# cb = ax.pcolormesh(lsdt.x,lsdt.y,lsdt,vmin=-2.0,vmax=0.6,transform=ccrs.PlateCarree())\n",
    "# plt.plot([-103.0,-102.0,-102.0,-103.0,-103.0],[-73.5,-73.5,-73.42,-73.42,-73.5],lw=2,ls='--',color='k',transform=ccrs.PlateCarree())\n",
    "# ax.set_ylim([-73.8 , -73.1])\n",
    "# ax.set_xlim([-103.9,-101.5])\n",
    "# cbar = plt.colorbar(cb)\n",
    "# # cbar.set_clim(-1, -6) # set limits of color map\n",
    "# plt.tight_layout()"
   ]
  },
  {
   "cell_type": "markdown",
   "metadata": {
    "user_expressions": []
   },
   "source": [
    "## Calculate calibration bias and trend\n",
    "Uses a [RANSAC regression](https://scikit-learn.org/stable/modules/generated/sklearn.linear_model.RANSACRegressor.html), but provides comparisons to an Ordinary Least Squares regression calculation from statsmodel of the same parameters."
   ]
  },
  {
   "cell_type": "code",
   "execution_count": 43,
   "metadata": {
    "tags": []
   },
   "outputs": [],
   "source": [
    "# Read in paired MODIS/Landsat data created above\n",
    "# 2019-2021 data ***no 2021 data\n",
    "out_df = '/home/jovyan/Data/MODISvLandsat_Cosgrove_20230622'\n",
    "df3 = pd.read_pickle(out_df)\n",
    "# 2017,2018,2022 data\n",
    "out_df = '/home/jovyan/Data/MODISvLandsat_Cosgrove_20230622_2'\n",
    "df4 = pd.read_pickle(out_df)\n",
    "# 2014-2016 data\n",
    "out_df = '/home/jovyan/Data/MODISvLandsat_Cosgrove_20230626'\n",
    "df5 = pd.read_pickle(out_df)\n",
    "# 2023 data\n",
    "out_df = '/home/jovyan/Data/MODISvLandsat_Cosgrove_20230627'\n",
    "df6 = pd.read_pickle(out_df)\n",
    "lsat_mod_df_n = pd.concat([df3,df4,df5,df6])"
   ]
  },
  {
   "cell_type": "code",
   "execution_count": 19,
   "metadata": {
    "tags": []
   },
   "outputs": [
    {
     "name": "stdout",
     "output_type": "stream",
     "text": [
      "                            OLS Regression Results                            \n",
      "==============================================================================\n",
      "Dep. Variable:                 L8_SST   R-squared:                       0.693\n",
      "Model:                            OLS   Adj. R-squared:                  0.672\n",
      "Method:                 Least Squares   F-statistic:                     31.67\n",
      "Date:                Tue, 27 Jun 2023   Prob (F-statistic):           6.23e-05\n",
      "Time:                        16:55:52   Log-Likelihood:                -14.362\n",
      "No. Observations:                  16   AIC:                             32.72\n",
      "Df Residuals:                      14   BIC:                             34.27\n",
      "Df Model:                           1                                         \n",
      "Covariance Type:            nonrobust                                         \n",
      "==============================================================================\n",
      "                 coef    std err          t      P>|t|      [0.025      0.975]\n",
      "------------------------------------------------------------------------------\n",
      "Intercept     -0.8770      0.172     -5.097      0.000      -1.246      -0.508\n",
      "MODIS_SST      0.7440      0.132      5.628      0.000       0.460       1.028\n",
      "==============================================================================\n",
      "Omnibus:                       11.478   Durbin-Watson:                   2.288\n",
      "Prob(Omnibus):                  0.003   Jarque-Bera (JB):                8.417\n",
      "Skew:                          -1.263   Prob(JB):                       0.0149\n",
      "Kurtosis:                       5.498   Cond. No.                         1.63\n",
      "==============================================================================\n",
      "\n",
      "Notes:\n",
      "[1] Standard Errors assume that the covariance matrix of the errors is correctly specified.\n"
     ]
    }
   ],
   "source": [
    "# Ordinary least squares regression between Landsat and MODIS SST matchups\n",
    "resultC = sm.ols(formula=\"L8_SST ~ MODIS_SST\", data=lsat_mod_df_n).fit()\n",
    "print (resultC.summary())"
   ]
  },
  {
   "cell_type": "code",
   "execution_count": 49,
   "metadata": {
    "tags": []
   },
   "outputs": [
    {
     "name": "stdout",
     "output_type": "stream",
     "text": [
      "m = 0.8337452938056414\n",
      "b = -0.7638084114195383\n",
      "score = 0.6793620365327738\n"
     ]
    }
   ],
   "source": [
    "# RANSAC Regression for atm corrected SST\n",
    "xdata = 'MODIS_SST'\n",
    "ydata = 'L8_SST'\n",
    "forrsac = lsat_mod_df_n[[xdata,ydata]].dropna()\n",
    "xC = np.reshape(forrsac[xdata].values,(forrsac[xdata].shape[0],1))\n",
    "yC = np.reshape(forrsac[ydata].values,(forrsac[ydata].shape[0],1))\n",
    "reg = RANSACRegressor(random_state=0).fit(xC,yC)\n",
    "yLC = reg.predict(xC)\n",
    "scoreC = reg.score(xC,yC)\n",
    "\n",
    "lreg = LinearRegression().fit(xC,yLC)\n",
    "print ('m = '+str(lreg.coef_[0][0]))\n",
    "print ('b = '+str(lreg.intercept_[0]))\n",
    "print ('score = '+str(scoreC))"
   ]
  },
  {
   "cell_type": "code",
   "execution_count": 46,
   "metadata": {
    "tags": []
   },
   "outputs": [
    {
     "name": "stdout",
     "output_type": "stream",
     "text": [
      "0.083\n"
     ]
    }
   ],
   "source": [
    "# Permuation test for p-value pearson or RANSAC\n",
    "# https://towardsdatascience.com/how-to-assess-statistical-significance-in-your-data-with-permutation-tests-8bb925b2113d\n",
    "\n",
    "# Initialize variables\n",
    "pR = []\n",
    "x = xC\n",
    "y = yC\n",
    "# Choose number of permutations\n",
    "p=10000\n",
    "#I nitialize permutation loop\n",
    "for i in range(0,p):\n",
    "    # Shuffle one of the features\n",
    "    pS = copy.copy(y)\n",
    "    random.shuffle(pS)\n",
    "    # Computed permuted correlations and store them in pR\n",
    "    reg = RANSACRegressor(random_state=0).fit(x,pS)\n",
    "    pR.append(reg.score(x,pS))\n",
    "#     pR.append(stats.pearsonr(xC,yLC)[0])\n",
    "\n",
    "# Significance\n",
    "p_val = len(np.where(np.abs(pR)>=np.abs(scoreC))[0])/np.float(p)\n",
    "print (p_val)"
   ]
  },
  {
   "cell_type": "code",
   "execution_count": 47,
   "metadata": {
    "tags": []
   },
   "outputs": [
    {
     "name": "stdout",
     "output_type": "stream",
     "text": [
      "[0.83374529]\n",
      "-0.7638084114195383\n"
     ]
    }
   ],
   "source": [
    "print (lreg.coef_[0])\n",
    "print (lreg.intercept_[0])"
   ]
  },
  {
   "cell_type": "code",
   "execution_count": 48,
   "metadata": {
    "tags": []
   },
   "outputs": [
    {
     "data": {
      "application/vnd.jupyter.widget-view+json": {
       "model_id": "5f74d15d93a64c70af5e6f22072b0534",
       "version_major": 2,
       "version_minor": 0
      },
      "image/png": "[encoded data removed]",
      "text/html": [
       "\n",
       "            <div style=\"display: inline-block;\">\n",
       "                <div class=\"jupyter-widgets widget-label\" style=\"text-align: center;\">\n",
       "                    Figure\n",
       "                </div>\n",
       "                <img src='data:image/png;base64,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' width=600.0/>\n",
       "            </div>\n",
       "        "
      ],
      "text/plain": [
       "Canvas(toolbar=Toolbar(toolitems=[('Home', 'Reset original view', 'home', 'home'), ('Back', 'Back to previous …"
      ]
     },
     "metadata": {},
     "output_type": "display_data"
    }
   ],
   "source": [
    "# Plot data points and RANSAC regression\n",
    "fig, ax = plt.subplots(nrows=1, ncols=1, sharey=True,figsize=(6, 4))\n",
    "xi = np.arange(-7.0,5.0,1.0)\n",
    "\n",
    "data = lsat_mod_df_n\n",
    "\n",
    "a1 = ax\n",
    "a1.tick_params(labelsize=14)\n",
    "a1.scatter(data[xdata],data[ydata],color='k',linewidth=0,s=35,label='_no label_')\n",
    "a1.plot(xi,xi*lreg.coef_[0]+lreg.intercept_[0],color='k',linewidth=2,label='RANSAC regression')\n",
    "# a1.text(-2,-1.7,'y=0.34x+0.38 acc=0.5',fontsize=14)\n",
    "a1.spines['top'].set_visible(False)\n",
    "a1.spines['right'].set_visible(False)\n",
    "a1.set_ylim([-4,1.6])\n",
    "a1.set_xlim([-2.7,2.5])\n",
    "a1.set_xlabel('MODIS SST [C]',fontsize=16)\n",
    "a1.set_ylabel('Landsat SST [C]',fontsize=16)\n",
    "a1.legend(markerscale=1,fontsize=14,loc='upper left')\n",
    "\n",
    "plt.tight_layout()\n",
    "# plt.savefig('/Users/tsnow03/GoogleDrive/User/Docs/PhD_Project/Manuscripts/AmundsenCC_Manuscript/Figures/LMCalibration.jpg', format='jpg', dpi=1000)\n",
    "plt.show()"
   ]
  },
  {
   "cell_type": "markdown",
   "metadata": {
    "user_expressions": []
   },
   "source": [
    "## Test to see if rioxarray reproject is causing issues"
   ]
  },
  {
   "cell_type": "markdown",
   "metadata": {
    "user_expressions": []
   },
   "source": [
    "I noticed when I use rioxarray to reproject MODIS and Landsat to WGS84 (espg 4326)\n",
    "that the x,y dimensions changed, which shouldn't happen. We need to keep the \n",
    "same spatial resolution and therefore dimensions. \n",
    "\n",
    "Here, I'm comparing the outputs of the Landsat/MODIS pair data from the method above where I immediately take the aggregate (without reprojection from espg 3031) and take the aggregate after I reproject to WGS84."
   ]
  },
  {
   "cell_type": "code",
   "execution_count": 24,
   "metadata": {
    "tags": []
   },
   "outputs": [],
   "source": [
    "# Read in paired MODIS/Landsat data created above\n",
    "out_df = '/home/jovyan/Data/MODISvLandsat_Cosgrove_20230621_reproj'\n",
    "df1 = pd.read_pickle(out_df)\n",
    "out_df = '/home/jovyan/Data/MODISvLandsat_Cosgrove_20230622_reproj'\n",
    "df2 = pd.read_pickle(out_df)\n",
    "\n",
    "df0 = pd.concat([df1,df2])\n",
    "\n",
    "# Reran the first two, to check value differences after removing the reprojection step\n",
    "out_df = '/home/jovyan/Data/MODISvLandsat_Cosgrove_20230622'\n",
    "df3 = pd.read_pickle(out_df)"
   ]
  },
  {
   "cell_type": "code",
   "execution_count": 25,
   "metadata": {
    "tags": []
   },
   "outputs": [
    {
     "data": {
      "application/vnd.jupyter.widget-view+json": {
       "model_id": "a8ecf23ad9d943dfae626f8869be3e34",
       "version_major": 2,
       "version_minor": 0
      },
      "image/png": "[encoded data removed]",
      "text/html": [
       "\n",
       "            <div style=\"display: inline-block;\">\n",
       "                <div class=\"jupyter-widgets widget-label\" style=\"text-align: center;\">\n",
       "                    Figure\n",
       "                </div>\n",
       "                <img src='data:image/png;base64,iVBORw0KGgoAAAANSUhEUgAAAlgAAAGQCAYAAAByNR6YAAAAOXRFWHRTb2Z0d2FyZQBNYXRwbG90bGliIHZlcnNpb24zLjYuMiwgaHR0cHM6Ly9tYXRwbG90bGliLm9yZy8o6BhiAAAACXBIWXMAAA9hAAAPYQGoP6dpAABoUklEQVR4nO3dd1hUR9sG8HulLEtbFUQEKaIidtFYoxJjwa6xYwnYXlPfxJKoiUaNxm7UqIkaRexYo4m9gCVqLLHE2BWxIzaKiNTn+4Nv93VdsLALS7l/17VXwpyZM885u7IPc+bMUYiIgIiIiIiMpoipAyAiIiIqaJhgERERERkZEywiIiIiI2OCRURERGRkTLCIiIiIjIwJFhEREZGRMcEiIiIiMjImWERERERGxgSLiIiIyMiYYBEREREZGRMsIiIiIiNjgkVERERkZEywiIiIiIyMCZYRiAji4uIgIqYOhYiIiPIAJlhGEB8fD7Vajfj4eFOHQkRERHkAEywiIiIiI2OCRURERGRkTLCIiIiIjIwJFhEREZGRMcEiIiIiMjImWERERERGZm7qAAqjlJQUpKWlmToMIiIqQCwsLGBmZmbqMOj/McHKRXFxcXj48CGSkpJMHQoRERUwCoUCarUazs7OUCgUpg6n0GOClUvi4uJw584d2NrawtHRERYWFvwHQERERiEiSEhIwIMHD6BSqVC0aFFTh1ToMcHKJQ8fPoStrS1Kly7NxIqIiIxOpVIhKSkJ0dHRUKvVBf67Jjo6GiEhIYiIiEDZsmURGBgIJycnU4elVSgnud+5cwezZs1CixYt4O7uDktLSzg7O6Nz5844evSo0ftLSUlBUlJSofjAExGR6djb2yMtLa3Az/PdvHkzPDw8MHz4cCxYsABff/01PDw8sHnzZlOHplUoE6w5c+Zg8ODBiIiIQPPmzTF06FA0bNgQmzdvRoMGDbB27Vqj9qf5oFtYWBh1v0RERC8yN8+4MJWammriSHJOdHQ0evTogefPn+uUP3/+HAEBAYiOjjZRZLoK5SXCOnXq4MCBA2jUqJFO+cGDB9G0aVN8/PHH6NChA5RKpVH75egVERHlpMLwPRMSEqKXXGkkJiZi6dKl+Oqrr3I5Kn2FcgSrU6dOeskVADRq1AhNmjTB48ePcfbsWRNERkRERK8SERFh0PbcUigTrFfRXMbTDLPS2/npp5+gUChQpUoVU4dictu2bcPYsWMz3ebp6YmgoKBcjQcA9u3bB4VCgX379uV633nJ6dOn0aZNG7i7u0OlUqF48eKoX78+VqxYkWn9kydPolmzZrC1tUXRokXRqVMnvV/iCQkJ6NGjBypUqAA7OzvY2NigcuXKmDBhAhISEnTq3r59G19++SX8/PxQtGhRKBQKhISE5NThEhUoXl5eAAB7AJ0AfALgg///+cXtpsYE6wU3b97Enj174OzsjKpVq5o6nHwpODgYAHDu3LkcuWEgP9m2bRvGjRuX6bbffvsNo0ePzuWIgJo1a+LIkSOoWbNmrvedl8TExMDNzQ0TJ07Etm3bsGzZMnh6eqJPnz6YMGGCTt2LFy/ivffeQ3JyMtauXYvg4GBcvnwZjRo1woMHD7T1UlJSICIYMmQINmzYgM2bN6Nz5874/vvv0aFDB519Xr16FStXroSlpSVat26dK8dMVFAEBQWhkaUlggEEAWgJoC+AYACNlUoEBgaaMrz/ERIRkeTkZGncuLEAkGXLlr2y7vPnzyU2Nlb7unXrlgCQ2NjYTOsnJibK+fPnJTExMSdCzzOOHz8uAKRNmzYCQAYOHGiyWFJTU+X58+cm619E5NNPPxX+E8tf6tatK25ubjplXbt2FUdHR51/35GRkWJhYSFff/31a/f59ddfCwC5du2atiwtLU37/5p/N0uWLDH8AKjQKxTfNzExcqdePdlapIj8DmhfW4sUkTv164vExJg6QhER4QgWgPT0dPTr1w8HDhzAwIED0adPn1fWnzRpEtRqtfbl5uaWS5HmbYsXLwYATJ48GQ0aNEBoaCiePXumV+/27dvo0qUL7OzsULRoUfTq1QvHjx/P9DLJr7/+Cm9vbyiVSlSqVAmrVq1CUFAQPD09tXUiIyOhUCgwdepUTJgwAWXKlIFSqUR4eDgA4MSJE2jfvj2KFy8OKysr+Pr6Znqn6J9//on69evDysoKrq6uGD16NBYtWgSFQoHIyEhtvTVr1qBFixYoVaoUVCoVKlasiBEjRuhcBgoKCsK8efMAZEw61bw0+8nsEuHNmzfRu3dvODk5QalUomLFipgxYwbS09P1jnX69On48ccfUaZMGdja2qJ+/fr466+/XvseZXaJMCgoCLa2trh69Spat24NW1tbuLm5YejQoW/81IE1a9agfv36sLGxga2tLfz9/XHq1CmdOhEREejRowdcXFygVCpRsmRJNG3aFKdPn9bW8fT0RNu2bfHbb7+hWrVqsLKygpeXF3766Se9Ps+dO4cWLVrA2toaJUqUwKeffoqtW7cadAnU0dFRZ3pAamoqtmzZgs6dO8Pe3l5b7uHhgSZNmuC333577T5LlCgBQHfaQZEi/NVLlG179sDF0RFNmzZFxYoV4eHhgYoVK6Jp06ZwcXAA9u41dYQACuldhC8SEQwcOBArVqxA7969MX/+/Ne2GTlyJIYMGaL9OS4uzmRJVl5ZaC0xMRGrV69G7dq1UaVKFfTr1w8DBgzAunXrdIZrExIStDcSTJkyBeXKlcOOHTvQvXt3vX0uXLgQgwYNQufOnTFz5kzExsZi3LhxWX7p//TTT/D29sb06dNhb2+P8uXLIzw8HC1btkTdunUxf/58qNVqhIaGonv37nj27Jk2yfnnn3/QvHlzeHt7Y+nSpbC2tsb8+fMznZNz5coVtG7dGl9++SVsbGxw8eJFTJkyBceOHUNYWBgAYPTo0UhISMD69etx5MgRbdtSpUplGvuDBw/QoEEDJCcnY/z48fD09MSWLVswbNgwXLt2DT///LNO/Xnz5sHHxwezZs3S9te6dWtcv34darU66zcqCykpKWjfvj369++PoUOH4sCBAxg/fjzUajW+++67V7adOHEiRo0ahb59+2LUqFFITk7GtGnT0KhRIxw7dgyVKlUCALRu3RppaWmYOnUq3N3d8fDhQxw+fBgxMTE6+zt9+jS+/PJLjB07Fs7Ozli5ciW++OILJCcnY9iwYQCAe/fuwc/PDzY2Nvjll1/g5OSE1atX47PPPnur405PT0d6ejqePHmCdevWYefOnZg7d652+7Vr15CYmIhq1arpta1WrRp2796N58+fw8rKSlsuIkhLS8OzZ89w+PBhzJgxAwEBAXB3d3+r2IgoC1FRAAClUolyZctmud3kTD2EZkppaWnSt29fASABAQGSmpqarf3Exsaa5BLhpk2bxMrKSgBoX1ZWVrJp0yaj9vMmli1bJgBk/vz5IiISHx8vtra20qhRI5168+bNEwCyfft2nfJBgwbpXCZJS0sTZ2dnqVu3rk69GzduiIWFhXh4eGjLrl+/LgCkbNmykpycrFPfx8dHfH19JSUlRae8bdu2UqpUKe2lmq5du4qNjY08ePBAWyctLU0qVaokAOT69euZHnd6erqkpKTI/v37BYCcOXNGu+1Vlwg9PDwkMDBQ+/OIESMEgBw9elSn3scffywKhUIuXbqkc6xVq1bV+bweO3ZMAMjq1asz7U8jPDxcAEh4eLi2LDAwUADI2rVrdeq2bt1aKlSo8Mr93bx5U8zNzeXzzz/XKY+PjxdnZ2fp1q2biIg8fPhQAMisWbNeuT8PDw9RKBRy+vRpnfLmzZuLvb29JCQkiIjIV199JQqFQs6dO6dTz9/fX+/4XkXzuQMglpaW8vPPP+tsP3ToUJbndeLEiQJA7t69q1O+evVqnX+Tffv21fv8vYiXCMmYCsUlwvXrRdq2zfq1YYOpIxSRQnyJMD09HQMGDMCSJUvQvXt3LF++PF89hTyvLbS2ePFiqFQq9OjRAwBga2uLrl274uDBg7hy5Yq23v79+2FnZ4eWLVvqtA8ICND5+dKlS4iKikK3bt10yt3d3fHuu+9mGkP79u11FnO9evUqLl68iF69egHIuNyjebVu3Rr37t3DpUuXtHG9//77cHR01LYvUqSIXv9AxqWunj17wtnZGWZmZrCwsICfnx8A4MKFC68+UVkICwtDpUqVUKdOHZ3yoKAgiIh2ZEyjTZs2Op9XzQjLjRs3stW/QqFAu3btdMqqVav22v3t3LkTqamp+PDDD3XOr5WVFfz8/LSX6ooXL46yZcti2rRp+PHHH3Hq1CmdS58vqly5MqpXr65T1rNnT8TFxeHkyZMAMt6vKlWqaEfHNF7+HL3ON998g+PHj2Pr1q3o168fPvvsM0yfPl2v3qvWFnp5m7+/P44fP46wsDD88MMP2LBhAzp37pzl8RLRW2rWDLC0zHybpSXQtGnuxpOFQplgpaeno3///liyZAm6du2KFStW5KvkCnizhdZyy9WrV3HgwAG0adMGIoKYmBjExMSgS5cuAP53ZyEAPHr0CCVLltTbx8tljx49yrQ8qzJA//Lb/fv3AQDDhg2DhYWFzuuTTz4BkPGMyLeJ6+nTp2jUqBGOHj2KCRMmYN++fTh+/Dg2btwIIOPcZ8ejR48yvXzo4uKi3f4iBwcHnZ81i+Jmt39ra2udy1yafWb1GdPQnOPatWvrneM1a9Zoz69CocDevXvh7++PqVOnombNmihRogT++9//Ij4+Xmefzs7Oev1oyjTn4U3fr9dxd3fHO++8g9atW+OXX37Bf/7zH4wcOVJ7d6DmPL98/gHg8ePHUCgUeg/VLVasGN555x00adIE33zzDRYuXIjff/89Tz3CgyhfU6uBr7/WT7IsLTPKszFNIicUyjlY33//PUJCQmBrawtvb2+927IBoGPHjqhRo0buB/eG8tJCa8HBwRARrF+/HuvXr9fbvnTpUkyYMAFmZmZwcHDAsWPH9OpEvXTNXPPFpvkCf1VdjZdHEjSjUSNHjkSnTp0ybVOhQgVtf2/SV1hYGO7evYt9+/ZpR60A6M0jelsODg64d++eXvndu3cBQGdkLS/RxLV+/Xp4eHi8sq6Hh4f2RojLly9j7dq1GDt2LJKTk3XmPmb2/mrKNJ+LN32/3ladOnUwf/58REREoESJEihbtixUKlWmCw+fPXsW5cqV00tMM9snkHHMRGQkdesCwcEZE9qjogBn54yRqzySXAGFNMHS3Mn19OlT/PDDD5nW8fT0zNMJ1usWUsuthdbS0tKwdOlSlC1bFosWLdLbvmXLFsyYMQPbt29H27Zt4efnh7Vr12L79u1o1aqVtl5oaKhOuwoVKsDZ2Rlr167VuaHg5s2bOHz4sHZk51UqVKiA8uXL48yZM5g4ceIr6/r5+WHbtm14+PChNmlIT0/HunXrdOppkriXH6O0YMECvX2+OKqkUqle2X/Tpk0xadIknDx5UmeNqmXLlkGhUKBJkyavbG8q/v7+MDc3x7Vr19C5c+c3buft7Y1Ro0Zhw4YN2st+GufOncOZM2d0LhOuWrUKdnZ22nPj5+eH6dOn4/z58zqXCV/+HL2t8PBwFClSRPvvx9zcHO3atcPGjRsxdepU2NnZAcj4HIaHh2Pw4MFvtE8AKFeunEGxEdFL1Gogiz+e84JCmWCFhITk+1WTg4KCMGbMmEwv4ahUqlxbaG379u24e/cupkyZgvfee09ve5UqVTB37lwsXrwYbdu2RWBgIGbOnInevXtjwoQJKFeuHLZv346dO3cC+N/t60WKFMG4ceMwaNAgdOnSBf369UNMTAzGjRuHUqVKvfFt7gsWLECrVq3g7++PoKAguLq64vHjx7hw4QJOnjypTaC+/fZb/PHHH2jatCm+/fZbqFQqzJ8/X7v0gqa/Bg0aoFixYvjoo48wZswYWFhYYOXKlThz5oxe35rFaqdMmYJWrVrBzMwM1apVg2UmcwcGDx6MZcuWoU2bNvj+++/h4eGBrVu34ueff8bHH38Mb2/vNzre3Obp6Ynvv/8e3377LSIiItCyZUsUK1YM9+/fx7Fjx2BjY4Nx48bhn3/+wWeffYauXbuifPnysLS0RFhYGP755x+MGDFCZ58uLi5o3749xo4di1KlSmHFihXYvXs3pkyZAmtrawDAl19+ieDgYLRq1Qrff/89SpYsiVWrVuHixYsAXr8Mwn/+8x/Y29ujTp06KFmyJB4+fIh169ZhzZo1+Oqrr7RLKwDAuHHjULt2bbRt2xYjRozA8+fP8d1338HR0RFDhw7V1luwYAEOHjyIFi1awM3NDQkJCTh48CDmzJmDBg0a6C02qhnt1Yw2nzhxAra2tgCgvbxORPmYiSfZFwimvItQpVLp3LGkUqlk8+bNRu3nVTp27CiWlpYSHR2dZZ0ePXqIubm5REVFiUjGnWedOnUSW1tbsbOzk86dO8u2bdsEgF7sCxculHLlyomlpaV4e3tLcHCwdOjQQXx9fbV1NHfWTZs2LdP+z5w5I926dRMnJyexsLAQZ2dnef/997V3PGocPHhQ6tatK0qlUpydneWrr76SKVOmCACJeWHhusOHD0v9+vXF2tpaSpQoIQMGDJCTJ0/q3QmWlJQkAwYMkBIlSohCodC5G/HluwhFMu6Q7Nmzpzg4OIiFhYVUqFBBpk2bprMo5auOFYCMGTMmy/dBJOu7CG1sbPTqjhkz5o0XSt20aZM0adJE7O3tRalUioeHh3Tp0kX27NkjIiL379+XoKAg8fHxERsbG7G1tZVq1arJzJkzde6G9PDwkDZt2sj69eulcuXKYmlpKZ6envLjjz/q9fnvv/9Ks2bNxMrKSooXLy79+/eXpUuX6t3NmZng4GBp1KiRODo6irm5uRQtWlT8/Pxk+fLlmdY/ceKENG3aVKytrcXe3l46duwoV69e1alz6NAhadu2rbi4uIilpaVYW1tL9erVZfz48dq7H1/04r/bl19E2VUo7iLMJxQiIrma0RVAcXFxUKvViI2N1VmMUOP58+e4fv06ypQp89r5Gm8rOjoaS5cuRUREBLy8vEy2DpahNGsp3bx5E6VLl86yXkxMDLy9vdGxY0csXLgwx+Nq0aIFIiMjOX8ml3h6eqJKlSrYsmVLttr/5z//werVq/Ho0aNMRwqJCrqc/L6ht1MoLxEWJE5OTvjqq69MHcZb0Szk6OPjg5SUFISFheGnn35C7969dZKrqKgo/PDDD2jSpAkcHBxw48YNzJw5E/Hx8fjiiy+MHteQIUPg6+sLNzc3PH78GCtXrsTu3bu1E7Mpb/n+++/h4uICLy8vPH36FFu2bMGiRYswatQoJldEZHJMsCjXWVtbY+bMmYiMjERSUhLc3d0xfPhwjBo1SqeeUqlEZGQkPvnkEzx+/BjW1taoV68e5s+fj8qVKxs9rrS0NHz33XeIioqCQqFApUqVsHz5cvTu3dvofZHhLCwsMG3aNNy+fRupqakoX748fvzxxxxJvomI3hYvERqBKS8REhERafD7Ju8olAuNEhEREeUkJlhERERERsYEi4iIiMjImGARERERGRkTLCIiIiIjY4JFREREZGRMsIiIiIiMjAkWGdVPP/0EhUKBKlWqmDoUk9u2bRvGjh1r9P0ePnwYY8eORUxMTLb3ERQUpH2wcH5y6tQp+Pn5Qa1WQ6FQYNasWTl2nguSsWPHQqFQ5Nj+3/YzmRPv2fTp06FQKHD06FGd8vT0dBQvXhwKhQKXLl3S2ZacnAxra2t06tRJpzwuLg6TJ09G3bp1UbRoUVhYWKBkyZJo2bIlVq1ahaSkJJ36t27dwieffAJvb2+oVCoUL14cVatWxcCBA3Hr1i2duuHh4WjevDmcnJxga2uLatWq4aeffkJaWlqWx5aYmAhvb28oFApMnz49O6eHTIAJFhlVcHAwAODcuXN6v+gKm23btmHcuHFG3+/hw4cxbtw4gxKs/Kpfv364d+8eQkNDceTIEfTo0SPHznNBMmDAABw5ciTH9v+2n8mceM+aNGkCICOBedGZM2fw5MkT2NjY6G07evQoEhMTtW0B4MqVK/D19cUPP/yAhg0bYtmyZQgLC8OcOXPg6uqKfv36YcKECdr6t2/fRs2aNbF7924MGTIE27ZtQ3BwMAICAnD8+HFERERo6+7ZswfNmjVDamoqfv31V2zatAnvvfcevvjiCwwZMiTLYxs9ejQSEhIMOj+U+/ioHDKaEydO4MyZM2jTpg22bt2KxYsXo27duiaJJS0tDampqVAqlSbpn3LGv//+i4EDB6JVq1Y53tezZ89gbW2dY/UNkZKSAoVCAXPzN/sVXrp06Vc+RL0g8PX1RdGiRbFv3z6MGDFCW75v3z64uLjAz88P4eHh+Oijj3S2Af9LzlJTU9GxY0c8fvwYx44dQ8WKFXX66NatG7777jucOnVKW/brr7/i4cOHOHbsGMqUKaMt79ixI7755hukp6dry0JCQmBhYYEtW7bAxsYGANCsWTNcunQJISEhmD17tt5xHTt2DHPmzMHKlSvRtWtXA84Q5Tohg8XGxgoAiY2NzXR7YmKinD9/XhITE3M5stz10UcfCQA5e/asNGjQQOzs7CQhIUGv3q1bt6Rz585ia2srarVaevbsKceOHRMAsmTJEp26CxculPLly4ulpaVUrFhRVq5cKYGBgeLh4aGtc/36dQEgU6ZMkfHjx4unp6eYmZnJ9u3bRUTk+PHj0q5dOylWrJgolUqpUaOGrFmzRi+ugwcPSr169USpVIqLi4uMGjVKfv31VwEg169f19YLDQ2V5s2bi7Ozs1hZWYmPj48MHz5cnj59qq0TGBgoAPRemv2kp6fLvHnzpHr16mJlZSVFixaVzp07y7Vr1155jseMGZPpfsPDw984Nk18NjY2OmV//vmnODg4SJs2bbT1L1++LAEBAVKiRAmxtLQUHx8fmTt3rk678PBwASCrVq2Sb775RkqVKiV2dnbStGlTuXjx4iuPR0TkypUrEhQUJOXKlROVSiUuLi7Stm1b+eeff7R1lixZkulxG+s8+/n5SeXKlWX//v1Sv359UalU0r179yxj1py/f/75R5o3by62trZSr149ERFJSkqS8ePHS4UKFcTS0lIcHR0lKChIoqOjdfbh4eEhbdq0kY0bN0rVqlVFqVRKmTJlZPbs2Zme32XLlsmQIUPExcVFFAqFXLhwQUREFi9eLNWqVROlUinFihWTjh07yvnz53X2ofncvCw0NFTq1asn1tbWYmNjIy1atJCTJ0/q1fvrr7+kbdu2Urx4cVEqleLl5SVffPGFzr6z+kxmdu5e9Z4lJibKiBEjxNPTUywsLMTFxUU++eQTefLkSZbvh0b79u3F1tZWUlJSdMp69uwp8+fPFycnJ53677//vpQoUULS09NFRGTt2rUCQKZNm/bavjQ+/fRTKVKkiN6/scwEBQWJnZ2dpKWl6ZR369ZNLzaRjM9S5cqVZfDgwdrfc6+LrbB83+QHTLCMwKQJVkyMyPr1InPnimzYkPGzCTx79kzUarXUrl1bREQWLVokACQkJESn3tOnT6VcuXJSvHhxmTdvnuzcuVMGDx4sZcqU0UuwFixYIACkc+fOsmXLFlm5cqV4e3uLh4dHpgmWq6urNGnSRNavXy+7du2S69evS1hYmFhaWkqjRo1kzZo1smPHDgkKCtLr68yZM2JlZSXVqlWT0NBQ+f3336V169bi6empl2CNHz9eZs6cKVu3bpV9+/bJ/PnzpUyZMtKkSRNtnatXr0qXLl0EgBw5ckT7ev78uYiIDBw4UCwsLGTo0KGyY8cOWbVqlfj4+EjJkiUlKioqy/N869Yt+fzzzwWAbNy4UbtfzWfvTWIT0U+w1qxZI0qlUj7++GNJTU0VEZFz586JWq2WqlWryrJly2TXrl0ydOhQKVKkiIwdO1bbVpMAeHp6Sq9evWTr1q2yevVqcXd3l/Lly2v3l5X9+/fL0KFDZf369bJ//3757bffpGPHjqJSqbQJWnR0tBw5ckQASJcuXbTHbazz7OfnJ8WLFxc3NzeZM2eOhIeHy/79+7OMOTAwUCwsLMTT01MmTZoke/fulZ07d0paWpq0bNlSbGxsZNy4cbJ7925ZtGiRuLq6SqVKleTZs2fafXh4eIirq6u4u7tLcHCwbNu2TXr16qX3Jao5v66urtKlSxf5/fffZcuWLfLo0SOZOHGiAJCAgADZunWrLFu2TLy8vEStVsvly5e1+8gswfrhhx9EoVBIv379ZMuWLbJx40apX7++2NjYyLlz57T1duzYIRYWFlKtWjUJCQmRsLAwCQ4Olh49eojI6z+TL3vVe5aeni7+/v5ibm4uo0ePll27dsn06dPFxsZGfH19te9rVmbOnCkA5PDhwyIikpaWJkWLFpUFCxbIhQsXBID22JKSkkSlUknXrl217QcOHCgA5NKlS6/s50UrVqwQANKiRQvZsWNHlsctkpGoKpVK+fTTT+XOnTvy5MkTWbZsmVhYWMj06dP16n/77bfi6ekpT58+ZYKVDzHBMgKTJVh//SXSqZNI27b/e3XqlFGey5YtWyYAZP78+SIiEh8fL7a2ttKoUSOdevPmzRMA2tEljUGDBukkPWlpaeLs7Cx169bVqXfjxg2xsLDINMEqW7asJCcn69T38fERX19fnb9oRUTatm0rpUqV0v4l2bVrV7GxsZEHDx5o66SlpUmlSpX0EqwXpaenS0pKiuzfv18AyJkzZ7TbPv3000xHDTSJwowZM3TKb926JSqVSr7++utM+9KYNm3aK2N6k9heTLAmT54sZmZmMmXKFJ32/v7+Urp0ab3P9WeffSZWVlby+PFjEflfAtC6dWudeprRgCNHjrwyzpelpqZKcnKylC9fXgYPHqyzDYB8+umnOmXGOM9+fn4CQPbu3ftGMWpGYYKDg3XKV69eLQBkw4YNOuXHjx8XAPLzzz9ryzw8PEShUMjp06d16jZv3lzs7e21o7+a89u4cWOdek+ePBGVSqV33m/evClKpVJ69uypLXs5wbp586aYm5vL559/rtM2Pj5enJ2dpVu3btqysmXLStmyZV/5++tNP5MaWb1nO3bsEAAydepUnfI1a9YIAFm4cOEr93v69GkBIBMnThQRkb///lsAaBP1kiVLakdgNf8uXnxPWrZsKQD0EjnNvyXN68U/GtLT02XQoEFSpEgRASAKhUIqVqyoHXV62aFDh8TFxUU7cmdmZqZ3vCIip06dEgsLC9mxY4eICBOsfIiT3POr2Fhg6lQgOVm3PDk5ozw2NlfDWbx4MVQqFXr06AEAsLW1RdeuXXHw4EFcuXJFW2///v2ws7NDy5YtddoHBATo/Hzp0iVERUWhW7duOuXu7u549913M42hffv2sLCw0P589epVXLx4Eb169QKQMb9C82rdujXu3bunvato//79eP/99+Ho6KhtX6RIEb3+ASAiIgI9e/aEs7MzzMzMYGFhAT8/PwDAhQsXXn2iAGzZsgUKhQK9e/fWicnZ2RnVq1fXzgvJjreJTUQwaNAgjBkzBqtWrcLXX3+t3fb8+XPs3bsXH3zwAaytrfXO3fPnz/HXX3/p7K99+/Y6P1erVg0AcOPGjVfGnJqaiokTJ6JSpUqwtLSEubk5LC0tceXKlTc6n1l52/NcrFgxvP/++2/VR+fOnfX6LFq0KNq1a6fTZ40aNeDs7KzXZ+XKlVG9enWdsp49eyIuLg4nT558ZV9HjhxBYmIigoKCdMrd3Nzw/vvvY+/evVnGvXPnTqSmpuLDDz/UidPKygp+fn7aOC9fvoxr166hf//+sLKyeoMzYpiwsDAA0Dumrl27wsbG5pXHBGR85hwcHLTx79u3D87OzqhQoQIAoHHjxtqJ7i/Pv3qV2bNnw8LCQvt68T1TKBSYP38+IiIi8PPPP6Nv375ISUnBzJkzUblyZezfv19b9++//8YHH3yAWrVq4Y8//kBYWBhGjhyJUaNGYfz48dp6qamp6NevH7p37w5/f//Xxkd5Eye551d79ugnVxrJycDevcBLtx7nlKtXr+LAgQPo3LkzRER7J1GXLl2wZMkSBAcHY9KkSQCAR48eoWTJknr7eLns0aNHmZZryq5fv65XXqpUKZ2f79+/DwAYNmwYhg0blmnsDx8+fKu4nj59ikaNGsHKygoTJkyAt7c3rK2tcevWLXTq1AmJiYmZ9vNyXCKSaX8A4OXl9dp9ZOZtY0tOTsaaNWtQuXJlvUnjjx49QmpqKubMmYM5c+Zk2p/m3Gk4ODjo/Ky5weB152TIkCGYN28ehg8fDj8/PxQrVgxFihTBgAED3uh8ZuVtz/PLn5/Xsba2hr29vV6fMTExsLS0zLTNy+fM2dlZr46mTPNvIKv4NNszi9vFxQW7d+/OMnbNv43atWtnur1IkYy/vR88eAAAuTZB/tGjRzA3N0eJEiV0yhUKBZydnfXOycsUCgX8/Pywc+dOpKSkIDw8XPsHBgD4+flh7NixEBGEh4fD2dkZPj4+2u3u7u4AMv4o8Pb21pb37NkTDRs2BAAMGjRIb5kGAPDw8MDHH3+s/Xnt2rUICAjAV199hWPHjgEAPv30U5QsWRK//fYbzMzMAGQkeEWKFMHYsWPRq1cveHl5YdasWYiIiMDatWu1v0/j4uIAZPzxExMTAzs7O+0+KG9igpVfRUUZtt2IgoODISJYv3491q9fr7d96dKlmDBhAszMzODg4KD9ZfOiqJfi1XxZa74IXlVX4+V1fjSjUSNHjtRb50ZD85etg4PDG/UVFhaGu3fvYt++fTq/uN9myQRHR0coFAocPHgw07scs3vn49vGplQqER4eDn9/fzRr1gw7duxAsWLFAGSM5piZmaFPnz749NNPM23/4h1ThlixYgU+/PBDTJw4Uaf84cOHKFq0aLb3+7bn+W3XicqsvqOjIxwcHLBjx45M29jZ2en8nNlnWVP2csL6cn+a7ffu3dPbx927d3VGYzOLEwDWr18PDw+PLOtpEp3bt29nWceYHBwckJqaigcPHugkWSKCqKioLBPCFzVp0gQbN27E0aNHcfDgQe0fd0BGgvXw4UP8/fff+Ouvv/DBBx/otG3evDkWLlyI33//XeePMicnJzg5OQHIeA8zS7Be1q1bN0yaNAn//vuvtuz06dMICAjQS4xq166N9PR0XLhwAV5eXvj3338RGxuL8uXL6+139OjRGD16NE6dOoUaNWq8Ng4yHSZY+VUmf/m+1XYjSUtLw9KlS1G2bFksWrRIb/uWLVswY8YMbN++HW3btoWfnx/Wrl2L7du364yahIaG6rSrUKECnJ2dsXbtWp31YW7evInDhw/DxcXltbFVqFAB5cuXx5kzZ/S+vF/m5+eHbdu24eHDh9ovn/T0dKxbt06nnuZL7uUv5wULFujt88URHJVKpS1v27YtJk+ejDt37mR6CfJ1shoZepvYNHx9fbF//340a9YM7733Hnbv3g0nJydYW1ujSZMmOHXqFKpVq5bliIwxKBQKvZi3bt2KO3fuoFy5cq9tn1PnOTvatm2L0NBQpKWlvdESJefOncOZM2d0LjmtWrUKdnZ2qFmz5ivb1q9fHyqVCitWrNC5ff/27dsICwtDly5dsmzr7+8Pc3NzXLt2Te/S44u8vb1RtmxZBAcHY8iQIVkm/286WplZ/Rffs6ZNm2Lq1KlYsWIFBg8erC3fsGEDEhIS0LRp09fuW3PJb+bMmYiNjcV7772n3Va5cmU4ODhg0qRJeP78ud7lwQ8++ACVKlXCxIkT0bZtW53Rrazcu3cv01HEp0+f4tatWzq/q1xcXHDixAmkpaXpJFmaNco0I4UjRozQu0waFRWFgIAAfPTRR+jevfsb/dsg02KClV81awasWpX5ZUJLS+ANfhEZw/bt23H37l1MmTJF5xeZRpUqVTB37lwsXrwYbdu2RWBgIGbOnInevXtjwoQJKFeuHLZv346dO3cC+N+liSJFimDcuHEYNGgQunTpgn79+iEmJgbjxo1DqVKltPVeZ8GCBWjVqhX8/f0RFBQEV1dXPH78GBcuXMDJkye1CdS3336LP/74A02bNsW3334LlUqF+fPnaxf30/TXoEEDFCtWDB999BHGjBkDCwsLrFy5EmfOnNHru2rVqgCAKVOmoFWrVjAzM0O1atXw7rvv4j//+Q/69u2LEydOoHHjxrCxscG9e/fw559/omrVqjqXGrLa7+zZsxEYGAgLCwtUqFDhrWJ7UcWKFXHw4EE0a9YMjRs3xp49e1C6dGnMnj0bDRs2RKNGjfDxxx/D09MT8fHxuHr1qnb+iDG0bdsWISEh8PHxQbVq1fD3339j2rRpb3xZKqfOc3b06NEDK1euROvWrfHFF1+gTp06sLCwwO3btxEeHo4OHTrojJq4uLigffv2GDt2LEqVKoUVK1Zg9+7dmDJlymvX1CpatChGjx6Nb775Bh9++CECAgLw6NEjjBs3DlZWVhgzZkyWbT09PfH999/j22+/RUREBFq2bIlixYrh/v37OHbsGGxsbLQLgc6bNw/t2rVDvXr1MHjwYLi7u+PmzZvYuXMnVq5cCSDrz+TLI3YaWb1nzZs3h7+/P4YPH464uDi8++67+OeffzBmzBj4+vqiT58+r30PKleuDCcnJ/z2228oUaKEzlpWCoUCjRs3xm+//QZAf/6VmZkZNm3aBH9/f9SpUwcDBw7Ee++9h2LFiiEmJgZHjx7FmTNndPb5ww8/4NChQ+jevTtq1KgBlUqF69evY+7cuXj06BGmTZumrTt48GD897//Rbt27TBo0CBYW1tj7969mDFjBpo1a6ZNtH18fPSSu8jISABA2bJlM/1dS3mQCSfYFxiF+S7Cjh07iqWlpd4aPy/q0aOHmJuba2+Lv3nzpnTq1ElsbW3Fzs5OOnfuLNu2bRMAsnnzZp22CxculHLlyomlpaV4e3tLcHCwdOjQQXx9fbV1Xnd3zZkzZ7TrzFhYWIizs7O8//772jseNQ4ePCh169YVpVIpzs7O8tVXX8mUKVMEgMS8sPzF4cOHpX79+mJtbS0lSpSQAQMGyMmTJ/WWfkhKSpIBAwZIiRIlRKFQ6N1lFRwcLHXr1hUbGxtRqVRStmxZ+fDDD+XEiROvPe8jR44UFxcX7Z1LmjWH3jS2zNbBun37tvj4+Iinp6d2najr169Lv379xNXVVSwsLKREiRLSoEEDmTBhgrad5i63devW6exP8768vLbZy548eSL9+/cXJycnsba2loYNG8rBgwfFz89P/Pz8dOoik7sIjXGeNetgvanMzp9GSkqKTJ8+Xbv2lq2trfj4+MigQYPkypUr2nqadbDWr18vlStXFktLS/H09JQff/xRZ39ZnV+NRYsWSbVq1cTS0lLUarV06NBBZ5kFkazXwdq0aZM0adJE7O3tRalUioeHh3Tp0kX27NmjU+/IkSPSqlUrUavVolQqpWzZsnp3eGb1mczMq96zxMREGT58uHh4eIiFhYWUKlVKPv744zdaB0ujW7du2iU9XjZr1iztshdZiY2NlYkTJ0rt2rXF3t5ezM3NxcnJSZo3by7z5s3TWd/vr7/+kk8//VSqV68uxYsXFzMzMylRooS0bNlStm3bprfvDRs2SMOGDcXR0VFsbGykcuXKMn78+Neuo8W7CPMfhYhILud0BU5cXBzUajViY2P1Jr0CGZMSr1+/jjJlyhj/TpzY2IwJ7VFRGZcFmzYF1Grj9pELJk6ciFGjRuHmzZuvHLmIiYmBt7c3OnbsiIULF+Z4XC1atEBkZCQuX76c431R4eLp6YkqVapgy5YtOd7X4MGDsXz5cr1J9lTw5Oj3Db0VXiLM79TqXLtb0Fjmzp0LIGMYPCUlBWFhYfjpp5/Qu3dvneQqKioKP/zwA5o0aQIHBwfcuHEDM2fORHx8PL744gujxzVkyBD4+vrCzc0Njx8/xsqVK7F7924sXrzY6H0R5Ybo6GgcOXIEGzduRP369U0dDlGhwgSLcp21tTVmzpyJyMhIJCUlwd3dHcOHD8eoUaN06imVSkRGRuKTTz7B48ePYW1tjXr16mH+/PmoXLmy0eNKS0vDd999h6ioKCgUClSqVAnLly9H7969jd4XUW7Ytm0bPvvsM9SrVy/T59wRUc7hJUIjMOklQiIiov/H75u8gyu5ExERERkZEywiIiIiI2OCRURERGRkTLByEae7ERFRTuL3TN7BBCsXWFhYQKFQaFcFJyIiygnPnj0DkPG9Q6bFZRpygZmZGdRqNR48eICkpCTY29vD3Nz8rR8uS0RElBkRwbNnzxAdHY2iRYvqPVCach8TrFzi7OwMlUqF6OhoxMXFmTocIiIqgIoWLQpnZ2dTh0FggpVrFAoFihYtCrVajbS0NKSmppo6JCIiKkAsLCw4cpWHMMHKZQqFAubm5jA356knIqIXxMYCe/ZkPFu2VKl8+2xZysBveSIiIlM7ehSYOhVITv5f2cqVwNdfA3Xrmi4uyjbeRUhERGRKsbH6yRWQ8fPUqRnbKd9hgkVERGRKe/YAyclISkrC1WvX8M8//+DqtWtISkrKSLL27jV1hJQNvERIRERkSlFRiIqKwt8nTyI9PV1bfOnSJdSqWRPOUVEmDI6yiyNYREREJhSrUuklVwCQnp6OkydPIlalMlFkZAgmWERERCa05NYtPH8pudJITE9HyK1buRwRGQMTLCIiIhO6eO8epgJ4aYo7kgFM/f/tlP9wDhYREZEJeXl5YQGAfgCaAnAGEAVgL4A4AF28vEwYHWWXQvjobYPFxcVBrVYjNjYW9vb2pg6HiIjykejoaHh4eOD58+d621QqFSIjI+Hk5GSCyMgQvERIRERkQk5OTggNDYXqpcnsKpUKoaGhTK7yKY5gGQFHsIiIyFDR0dFYunQpIiIi4OXlhcDAQCZX+VihTbBWrFiBgwcP4u+//8bZs2eRnJyMJUuWICgo6K33xQSLiIiIXlRoJ7mPGjUKN27cgKOjI0qVKoUbN26YOiQiIiIqIArtHKxFixYhMjISDx48wEcffWTqcIiIiKgAyfYI1vfff2/MOAAA3333ndH3mZVmzZrlWl9ERERUuGQ7wRo7diwUCgUMncKlUCi0/5+bCRYRERFRTjFoDpabmxv69u1rcBDBwcG4ffu2wfvJLUlJSRlPOf9/cXFxJoyGiIiI8hqDEix3d3eMGTPG4CD27NmTrxKsSZMmYdy4caYOg4iIiPKoPDHJPb+tFDFy5EjExsZqX7f4IE4iIiJ6QbZHsJ48eQJzc+Os8rBz506kpqYaZV+5QalUQqlUmjoMIiIiyqOynSGp1WqjBWFjY2O0fRERERGZWp64REhERERUkBh8jW/VqlU4ceIEateujYCAgDeuX6dOHfTo0cPQ7omIiIjyHIOeRXjnzh2UL18e1tbWOHv2LEqVKvXaNvfu3UPVqlWRlJSEq1evomTJktnt3iCLFi3Cn3/+CQA4e/YsTp48iXfffRflypUDAHTs2BEdO3Z8o33xWYRERET0IoMuEYaEhOD58+cYPnz4GyVXAFCqVCmMHDkSCQkJCAkJMaR7g/z5559YunQpli5dipMnTwIADh06pC07ffq0yWIjIiKi/M2gESw/Pz8cOnQId+/ehZOT0xu3e/jwIZydndGwYUPs27cvu93nGRzBIiIiohcZNIJ1/vx5eHl5vVVyBQCOjo7w8vLC+fPnDemeiIiIKE8yKMGKi4uDg4NDttoWL14csbGxhnRPRERElCcZlGDZ29vjyZMn2WobExPDy2lERERUIBmUYHl6euLatWt4/PjxW7V79OgRrl69Ck9PT0O6JyIiIsqTDEqwmjZtivT0dMybN++t2s2bNw/p6elo1qyZId0TERER5UkG3UV448YNVKhQAQCwadMmtGzZ8rVtduzYoV1f6tKlS/Dw8Mhu93kG7yIkIiKiFxk0guXh4YExY8YgOTkZ7dq1w6effop///0307r//vsvPvnkE7Rr1w4pKSkYPXp0gUiuiIiIiF5m0AiWxvDhwzFt2jQoFAoAQLFixeDp6QkbGxskJCQgMjJSOxleRDB06FBMmzbN0G7zDI5gERER0YuMkmABwO7duzF+/Hjt42cy07BhQ4waNQotWrQwRpd5BhMsIiIiepHREiyNe/fu4fDhw7hz5w7i4+NhZ2cHV1dXNGjQ4I0fp5PfMMEiIiKiFxk9wSqMmGARERHRiwya5E5ERERE+rKdYN28eRPR0dFGCSI6Oho3b940yr6IiIiITC3bCZanpye6du1qlCA6d+4MLy8vo+yLiIiIyNQMukRozOlbnApGREREBYW5IY1v3ryJ77//3uAgeHmQiIiICpJs30VYpIhx5scrFAqICBQKBdLS0oyyz9zGuwiJiIjoRdkewRozZowx4yAiIiIqMLgOlhFwBIuIiIhexHWwiIiIiIyMCRYRERGRkTHBIiIiIjIyJlhERERERsYEi4iIiMjImGARERERGRkTLCIiIiIjM+hROd9//z3c3d0RFBRkpHCIiKiwiY6ORkhICCIiIlC2bFkEBgbCycnJ1GERGcSghUaLFCmChg0b4sCBA8aMKd/hQqNERNmzefNm9OjRA8+fP9eWWVlZITQ0FB06dDBhZESG4SVCIiIyiejoaL3kCgCeP3+OgIAAREdHmygyIsMxwSIiIpMICQnRS640EhMTsXTp0lyOiMh4mGAREZFJREREGLSdKC9jgkVERCbh5eVl0HaivMzgSe5qtRq+vr7Z61yhwN69e7PbfZ7BSe5ERG8vOjoaHh4emV4mVKlUiIyM5N2ElG8ZtEwDkJFc7Nu3L1ttFQqFod0TEVE+5eTkhNDQUAQEBCAxMVFbrlKpEBoayuSK8jWDEyw3Nzf07dvXGLEQEVEh06FDB0RGRmLp0qWIiIiAl5cX18GiAoHrYBkBLxESERHRizjJnYiIiMjImGARERERGRkTLCIiIiIjY4JFREREZGQG3UUYHh4OtVptrFiIiIiICgSD7iJ8U0eOHMGxY8eQnJyM8uXLw9/fHyqVKqe7zTW8i5CIiIheZNAIVkREBObPnw8nJycMGzZMb3tsbCw6d+6M8PBwnXIXFxesXbsW9evXN6R7IiIiojzJoDlYmzZtwowZMxAXF5fp9qCgIISFhUFEULJkSdSpUwe2tra4c+cO2rVrh4cPHxrSPREREVGeZFCCpXlETs+ePfW2/f3339i8eTMUCgWGDRuGO3fu4MiRI7h58yYaNWqEJ0+e4OeffzakeyIiIqI8yaAE6/LlyyhRogR8fHz0tq1fvx4AUKZMGUyePFn73EG1Wo3Zs2dDRLBjxw5DuiciIiLKkwxKsO7fvw8PD49Mt/35559QKBTo2LEjihTR7aZGjRpwcXHBpUuXDOmeiIiIKE8yKMF69uwZnj17pleenp6OU6dOAQAaNWqUaVsXFxc8ffrUkO4Ndvz4cbRu3RrFihWDjY0N6tSpg1WrVpk0JiIiIsr/DLqLsESJErhx4wZSUlJgYWGhLT958iSePXsGhUKBunXrZtr2+fPnKFq0qCHdG2Tfvn3w9/eHpaUlevToAbVajY0bN6JXr16IjIzEN998Y7LYiIiIKH8zaASrTp06SEhIwMKFC3XKg4ODAQAVK1aEs7OzXrvU1FRcvXoVLi4uhnSfbampqRgwYAAUCgUOHDiAX3/9FdOnT8eZM2dQuXJljBkzBleuXDFJbERERJT/GZRgDRo0CCKCL7/8Eh999BF++eUX9O3bFwsWLIBCocCAAQMybXfw4EE8f/4cVapUMaT7bAsLC8O1a9fQs2dP+Pr6asvt7OwwevRopKamYsmSJSaJjYiIiPI/gy4R+vv745NPPsHPP/+MX3/9VVsuInjnnXfwySefZNpu8eLFUCgUaNWqlSHdZ5tmeYkWLVrobdOU7d+/PzdDIiIiogLEoAQLAObOnYt3330Xy5YtQ0REBOzt7dGyZUsMHz4clpaWevUfPHiAS5cuoXr16vD39ze0+2zRXP4rX7683rZixYrB0dGRlwiJiIgo2wxOsAAgICAAAQEBb1S3RIkSOH78uDG6zbbY2FgAyPJB1fb29rh9+3aW7ZOSkpCUlKT9OauV7ImIiKhwMmgOVmE1adIkqNVq7cvNzc3UIREREVEekisJ1p07d7B582asW7cOp0+fzo0uX0kzcqUZyXpZXFxclqNbADBy5EjExsZqX7du3cqROImIiCh/MugSYVRUFDZu3Ah7e3v07t1bb3tycjI++eQThISEQES05TVq1EBoaGimc6Byg6bfK1euoFatWjrbnjx5gocPH6JBgwZZtlcqlVAqlTkaIxEREeVfBo1gbdy4EZ9//jn+/vvvTLd/9tlnCA4ORnp6OhQKBZycnAAAp06dQvPmzZGQkGBI99nm5+cHANi1a5feNk2Zpg4RERHR2zIowdIsd9CnTx+9bZcvX9Yux9CzZ0/ExMTg3r17uHTpEipXroxbt25hwYIFhnSfbU2bNoWXlxdWrVqlc8kyPj4e48ePh7m5OYKCgkwSGxEREeV/BiVY586dg1qtRs2aNfW2hYaGQkTg7OyMRYsWwdbWFgBQrlw5zJs3DyKC33//3ZDus83c3ByLFi1Ceno6GjVqhP/85z8YNmwYqlevjnPnzmHs2LHw9vY2SWxERESU/xk0B+v+/fvw8vLKdNuBAwegUCjQoUMHWFlZ6Wxr3LgxSpQogfPnzxvSvUGaNGmCP//8E2PGjMHatWuRnJyMypUrY/z48ejVq5fJ4iIiIqL8z6AEKz4+HmlpaZlu08zLatKkSabb3dzccPbsWUO6N1idOnWwfft2k8ZARERvIDYW2LMHiIoCSpUCmjYFXnG3N5GpGZRgFStWDDdu3ICIQKFQaMvPnTuH2NhYKBQK1KlTJ9O2qamp2suGREREWTp6FJg6FUhO/l/ZypXA118DdeuaLi6iVzBoDpavry9iY2Oxdu1anfKVK1cCADw9PeHh4aHXTkRw/fp1uLq6GtI9EREVdLGx+skVkPHz1KkZ24nyIINGsIKCgrBz5070798f169fR/Xq1XHs2DHMmDEDCoUCgYGBmbY7fvw44uPjUaFCBUO6JyKiAio6OhohISFQ79mDprdvw610af31B5OTgb17gU6dTBMk0SsYlGB1794doaGh2Lx5M7799lttuYjAy8sLgwcPzrRdSEgIFAqFyR72TEREedfmzZvRo0cPPH/+HJ8AcAFw6dIl1KpZE87OzrqVo6JMESLRaxn8qJx169bhhx9+gLe3N8zNzVG8eHH06tULBw4cgJ2dnV79Bw8e4LfffoNarUbr1q0N7Z6IiAqQ6OhobXIFAJr0KT09HSdPnkRSUpJug5cTLqI8QiEvPsOGskXz7MLY2FjY29ubOhwionxr6tSpGD58uPZnewDBACz//+eKFSuiXNmyGT9YWgLBwbybkPKkXHnYMxER0ZuIiIjQ+TkOwFQAminuz549y/gfS8uMuwiZXFEeZdAcLCIiImPKbPHqYwD6AWgK4GNfX6BPH66DRXkeLxEaAS8REhEZR3R0NDw8PLRzsF6kUqkQGRkJJycnE0RG9HZ4iZCIiPIMJycnhIaGQqVS6ZSrVCqEhoYyuaJ8gyNYRsARLCIi44qOjsbSpUsREREBLy8vBAYGMrmifIUJlhEwwSIiIqIX8RIhERERkZExwSIiIiIyslxLsGJjY/HgwYPc6o6IiIjIZAxKsJKSknD+/Hlcvnw5yzorVqxAhQoVULx4cTg7O8PBwQFDhgz532JxRERERAWMQQnWhg0bULVqVZ0HPb9o7ty5CAwMxJUrVyAiEBE8efIEs2fPRvv27Q3pmoiIiCjPMijB2rdvHwBgwIABetsePXqEkSNHAgCqVq2KrVu34sKFC1i0aBHs7e0RHh6ONWvWGNI9ERERUZ5k0KNyTpw4AaVSiaZNm+ptCw0NRUJCAmxsbLB161aULl0aAFChQgVYWFggMDAQq1evRvfu3Q0JgYiIiCjPMWgEKyoqCuXLl4e5uX6etnfvXgBA69attcmVRs+ePWFnZ4eTJ08a0j0RERFRnmRQgvXo0SMolcpMtx07dgwKhQItWrTQ22ZmZgYPDw/eVUhEREQFkkEJlrW1Ne7cuaNXfufOHdy9excAULt27UzbKpVKWFhYGNI9ERERUZ5kUIJVsWJFREVF4dixYzrlmzdvBgAULVoU1apVy7TtrVu3UKpUKUO6JyIiIsqTDEqwPvjgA4gIAgMD8ddffyExMRH79+/HhAkToFAo0KVLl0zbRUREIDo6Gp6enoZ0T0RERJQnGXQX4WeffYZFixbh0qVLePfdd7XlIgIbGxsMHz4803arVq2CQqHI9O5DIiIiovzOoBEslUqF8PBwNG/eXLuQqIjA3d0dmzZtgpeXl16bxMREzJs3DwDQqlUrQ7onIiIiypMUIiLG2FFUVBSuX78Oe3t7VKpUCQqFItN6z549w5UrV6BQKLKcn5XfxMXFQa1WIzY2Fvb29qYOh4iIiEzMaAlWYcYEi4iIiF5k0CVCIiIiItJn0CT3mzdvGhyAu7u7wfsgIiIiyksMSrDKlCljUOcKhQKpqakG7YOIiIgorzEowTJ0+hanfxEREVFBZFCCdf36dWPFQURERFRgGJRgeXh4GCsOIiIiogKDdxESERERGZlBI1iZSUpKwpkzZxAdHY34+HjY29vDyckJ1atXh6WlpbG7IyIiIspzjJZgHThwAJMnT0Z4eDiSk5P1tltaWqJZs2YYOXIkGjRoYKxuiYiIiPIco1wi/Pbbb9GkSRPs3LkTSUlJAAC1Wg0XFxftyuZJSUnYunUrGjVqhLFjxxqjWyIiIqI8yeAE65dffsGkSZMgImjfvj22b9+OmJgYPH78GLdu3cKTJ0/w5MkTbN26FW3btoWIYPz48Vi4cKEx4iciIiLKcwx6FmF8fDxcXV2RkJCAhQsXon///q9t8+uvv2LQoEGwt7fHnTt3YGNjk93u8ww+i5CIiIheZNAI1urVq/H06VMEBQW9UXIFAAMHDkRQUBDi4+OxevVqQ7onIiIiypMMSrD27dsHhUKBwYMHv1W7wYMHQ0QQFhZmSPdEREREeZJBCdapU6dQrFgxVKlS5a3aVa1aFcWKFcPp06cN6Z6IiIgoTzJomYaHDx+idOnS2Wrr5uaGO3fuGNI9EeVFsbHAnj1AVBRQqhTQtCmgVps6KiKiXGVQghUbGwsfH59stbWzs0NcXJwh3RNRXnP0KDB1KvDiWngrVwJffw3UrWu6uIiIcplBlwhTU1OhUCgMak9EBURsrH5yBWT8PHVqxnYiokKCzyIkIuPYs0c/udJITgb27s3deIiITMjgR+UcOnQIZmZmxoiFiPKzqCjDthMRFSAGj2CJSLZfpnLgwAEMGzYMTZo0gVqthkKhQFBQkMniISoQnJ0N205EVIAYNIIVHh5urDhyVXBwMJYuXQpra2u4u7tzsj2RMTRrBqxalfllQkvLjLsJiYgKCYMelZNfnThxAiqVCj4+Pjh+/Djq16+PwMBAhISEZGt/fFQO0f/L7C5CS0veRUhEhY7Bc7Dyo3feecfUIRAVTHXrAsHBGRPao6IyLgtyHSwiKoSMnmClp6fjn3/+we3btxEfHw87Ozu4urqievXqKFKENy0SFXhqNdCpk6mjICIyKaMlWOfPn8eUKVOwceNGPHv2TG+7tbU1OnfujK+++gqVK1c2VrdEREREeY5RhpRmz56NmjVrYsWKFUhISMj0jsGEhAQsX74ctWrVwsyZM43RrckkJSUhLi5O50VERESkYXCCNXv2bAwZMgTJycmoWLEiZs6cib///hsxMTFISUlBTEwM/v77b8ycORMVK1ZEcnIyhg0bhlmzZhnUr6OjIxQKxRu/9u3bZ+ihak2aNAlqtVr7cnNzM9q+iYiIKP8z6C7CiIgIVKpUCSkpKRg7diy+/fbbV86zSk9Px/jx4zFu3DhYWlri/Pnz8PLyylbfn3/+OeLj49+4/ogRIzJ9buJff/311ncRJiUlISkpSftzXFwc3NzceBchERmOD8smKhAMmoM1b948JCcn48svv8To0aNfW79IkSIYM2YMnjx5gp9++gnz5s3DjBkzstX3nDlzstXOGJRKJZRKpcn6J6ICig/LJiowDLpEuGvXLlhYWGDUqFFv1W706NEwNzfHrl27DOmeiKjg4MOyiQoUg0awbt26BW9vbxQvXvyt2jk4OMDb2xs3b940pHsiMlB0dDRCQkIQERGBsmXLIjAwEE5OTqYOq3B6k4dlc/kLonzDoAQrJSUFVlZW2WprZWWF1NRUQ7rPtj///BOLFi0CADx48EBbpnkeoY+PD0aMGGGS2Ihyy+bNm9GjRw88f/5cW/bdd98hNDQUHTp0MGFkhRQflk1UoBiUYDk7OyMiIgLp6elvtYhoWloaIiIi4Gyih79evXoVS5cu1Sm7du0arl27BgDw8/NjgkUFWnR0tF5yBQDPnz9HQEAAIiMjOZKV2/iwbKICxaA5WI0aNUJMTAzWrVv3Vu3WrVuHmJgYNGrUyJDusy0oKCjTtbo0L2Mu6UCUF4WEhOglVxqJiYl6f4BQLmjWLOO5jZnhw7KJ8h2DEqz+/ftDRPDf//4X58+ff6M2586dw3//+18oFAr079/fkO6JKJsiIiIM2k45QK3OuFvw5SRL87BsLtVAlK8YPILVp08fPHjwAPXq1cOUKVPw+PHjTOs+fvwYU6ZMQf369fHo0SP07NnTZCNYRIXd69afy+76dGQgzcOy+/YFWrXK+G9wMJdoIMqHDFpoFMiY6N61a1f8/vvvUCgUMDc3R6VKlVC2bFnY2NggISEB165dw/nz55GamgoRQdu2bbFhwwZYWFgY6zhMKi4uDmq1mguNUr4RHR0NDw+PTC8TqlQqzsEiIjKQwQmWxoIFCzB58mTcuHEjyzru7u4YMWIEPvroI2N0mWcwwaL8aPPmzQgICEBiYqK2TKVSITQ0FO3btzdhZERE+Z/REiwg41E4R48exeHDh3Hnzh3Ex8fDzs4Orq6uaNCgAerWrftWdxvmF0ywKL+Kjo7G0qVLERERAS8vL66DRURkJEZNsAorJlhERET0ooI3nERERERkYkywiIiIiIzMoJXczczMDOpcoVCY7HE5RET5GZ8jSZS3GTQHyxgT1tPT0w3eh6lxDhYR5abMniNpZWXF50gS5SEGJ1gKhQIVKlRAnz590KlTJ9ja2r7VPlxdXbPbfZ7BBIuIcgvXMCPKHwwagpo5cyZq1aqFixcvYtSoUahVqxZGjBiBc+fOoVSpUnB1dX3ti4iI3hyfI0mUPxiUYH3xxRc4duwYLl68iJEjR8LJyQkrV65Eq1at4OrqiqFDh+LkyZPGipWIqNDjcySJ8gej3EXo7e2NCRMmICIiAgcOHED//v2RlJSEmTNnonbt2qhcuTKmTJmCW7duGaM7IqJCi8+RJMofcmyh0eTkZPzxxx9Yvnw5duzYgZSUFCgUCnz00UeYO3duTnRpMpyDRUS5hXOwiPKHHFsHy9LSEp07d8amTZuwe/duuLm5IT09HZcvX86pLomICjwnJyeEhoZCpVLplGueI8nkiihvMGgdrFe5f/8+Vq9ejeXLl+P06dMQEdja2qJhw4Y51SURUaHQoUMHREZG8jmSRHmYUS8RJiYm4rfffsPy5cuxd+9epKamwszMDM2aNUOfPn3wwQcf6P3VVRDwEiERERG9yOARLBHBnj17sGLFCvz2229ISEiAiMDX1xd9+vRBQEAASpYsaYxYiYiIiPIFgxKsr776CqtWrUJUVBREBG5ubvjss8/Qp08fVKxY0VgxEhEREeUrRlvJvXfv3vDz84NCoXirfTRo0CC73ecZvERIRERELzJKgpXtzgvIw56ZYBEREdGLDLpE6O7ublCCRURERFQQGZRgRUZGGikMIiIiooIjxxYaJSIiIiqsmGARERERGRkTLCIiIiIjY4JFREREZGRMsIiIiIiMjAkWERERkZExwSIiIiIyMiZYREREREbGBIuIiIjIyJhgERERERkZEywiIiIiI2OCRURERGRkTLCIiIiIjIwJFhEREZGRMcEiIiIiMjImWERERERGxgSLiIiIyMiYYBEREREZGRMsIiIiIiNjgkVERERkZEywiIiIiIyMCRYRERGRkTHBIiIiIjIyJlhERERERlboEqyEhASsWLEC3bp1g7e3N1QqFYoWLQo/Pz+sXr3a1OERERFRAaAQETF1ELlpx44daNWqFRwcHNC0aVN4eXkhOjoaGzduRExMDD777DPMmTPnrfYZFxcHtVqN2NhY2Nvb51DkRERElF8UugTrzJkzOHfuHLp27QoLCwtt+f3791G3bl3cuHEDx44dQ+3atd94n0ywiIiI6EWF7hJh9erV0bNnT53kCgBKliyJQYMGAQD2799vitCIiIiogCh0CdaraJIuc3NzE0dCRERE+Rkzif+XlpaGZcuWQaFQoFmzZq+sm5SUhKSkJO3PcXFxOR0eERER5SMcwfp/o0ePxtmzZ9G3b19UqVLllXUnTZoEtVqtfbm5ueVSlERERJQf5NtJ7o6Ojnj06NEb1w8PD8d7772X6baFCxdi0KBB8PX1xYEDB2Bra/vKfWU2guXm5sZJ7kRERAQgH18iDAgIQHx8/BvXd3Z2zrR8yZIl+Oijj1C1alXs3r37tckVACiVSiiVyjfum4iIiAqXfDuCZQzBwcEYOHAgKlasiPDwcJQoUSJb++EyDURERPSiQjsHKzg4GAMGDICPjw/CwsKynVwRERERvaxQJliLFy/WSa6cnJxMHRIREREVIIXuEmFYWBiaNWsGEcGgQYMynZtVo0YNdOzY8Y33yUuERERE9KJ8O8k9u27evAlNTrlgwYJM6wQGBr5VgkVERET0okI3gpUTOIJFRERELyqUc7CIiIiIchITLCIiIiIjY4JFREREZGRMsIiIiIiMjAkWERERkZExwSIiIiIyMiZYREREREbGBIuIiIjIyJhgERERERkZEywiIiIiI2OCRURERGRkTLCIiIiIjIwJFhEREZGRMcEiIiIiMjImWERERERGxgSLiIiIyMiYYBEREREZGRMsIiIiIiMzN3UA9AqxscCePUBUFFCqFNC0KaBWmzoqIiIieg0mWHnV0aPA1KlAcvL/ylauBL7+Gqhb13RxERER0WvxEmFeFBurn1wBGT9PnZqxnYiIiPIsJlh50Z49+smVRnIysHdv7sZDREREb4UJVl4UFWXYdiIiIjIpJlh5kbOzYduJiIjIpJhg5UXNmgGWlplvs7TMuJuQiIiI8iwmWHmRWp1xt+DLSZalZUY5l2ogIiLK0xQiIqYOIr+Li4uDWq1GbGws7O3tjbfj2NiMCe1RURmXBbkOFhERUb7ABMsIcizBIiIionyJlwiJiIiIjIwJFhEREZGRMcEiIiIiMjImWERERERGxgSLiIiIyMiYYBEREREZGRMsIiIiIiMzN3UABYFmKbG4uDgTR0JERETGZGdnB4VC8dbtmGAZQXx8PADAzc3NxJEQERGRMWV3EXGu5G4E6enpuHv3bray3Li4OLi5ueHWrVuFchV4Hj+PvzAfP8BzwOPn8ef14+cIlgkVKVIEpUuXNmgf9vb2efbDlRt4/Dz+wnz8AM8Bj5/HX9COn5PciYiIiIyMCRYRERGRkTHBMjGlUokxY8ZAqVSaOhST4PHz+Avz8QM8Bzx+Hn9BPX5OciciIiIyMo5gERERERkZEywiIiIiI2OCRURERGRkTLDyqDNnzqBnz55wdXWFUqmEi4sLWrVqhfDwcFOHlqOCgoKgUCgyffn4+Jg6vFz3119/wczMDAqFApMnTzZ1ODlu8uTJaNGiBdzc3KBSqeDg4IB33nkHP/74I549e2bq8HJUQkICVqxYgW7dusHb2xsqlQpFixaFn58fVq9eberwcs2BAwcwbNgwNGnSBGq1GgqFAkFBQaYOy+iOHz+O1q1bo1ixYrCxsUGdOnWwatUqU4eVK1asWIFBgwbhnXfegVKphEKhQEhIiKnDMjouNJoHLVu2DP369YNarUbbtm3h6uqKhw8f4sSJEzh8+DCaNGli6hBz3BdffIGiRYvqlDk6OpomGBNJTExEUFAQVCoVEhISTB1OrliwYAEcHR3RvHlzODk54enTp9i3bx+GDh2KZcuW4fDhw7C2tjZ1mDni4MGD6NOnDxwcHNC0aVN07twZ0dHR2LhxI3r27InDhw9jzpw5pg4zxwUHB2Pp0qWwtraGu7t7gXzG6759++Dv7w9LS0v06NEDarUaGzduRK9evRAZGYlvvvnG1CHmqFGjRuHGjRtwdHREqVKlcOPGDVOHlDOE8pQTJ06Iubm51K9fXx4/fqy3PSUlxQRR5Z7AwEABINevXzd1KCY3ePBgsbe3l/HjxwsAmTRpkqlDynGJiYmZlvfp00cAyNy5c3M5otxz+vRpWblypSQnJ+uUR0VFiYeHhwCQY8eOmSi63HP8+HH5999/JTU1VY4cOSIAJDAw0NRhGU1KSoqULVtWlEqlnDx5UlseFxcnlStXFnNzc7l8+bIJI8x5u3fvlsjISBERmTRpkgCQJUuWmDaoHMBLhHnMqFGjkJaWhmXLlqFYsWJ6283NOehYGBw6dAizZ8/G9OnTDX4MU35iZWWVaXmXLl0AAFevXs3NcHJV9erV0bNnT1hYWOiUlyxZEoMGDQIA7N+/3xSh5ap33nkHlStXhpmZmalDyRFhYWG4du0aevbsCV9fX225nZ0dRo8ejdTUVCxZssSEEea8Zs2awcPDw9Rh5Dh+W+chMTEx2LVrF3x9fVGuXDns378fx44dg7m5OerWrYsGDRqYOsRcs3XrVsTHx0OpVKJatWp47733Cuwv3Jc9e/YMQUFBeO+99zBw4MACOTfhbW3duhUAUKVKFRNHYhqapIt/YOV/+/btAwC0aNFCb5umrDAk0oUB/7XmISdPnkR6ejrc3NzQvn17/PHHHzrbmzdvjnXr1kGtVpsowtzz2Wef6fzs7e2N1atXo2bNmiaKKPeMGDEC9+7dw65du0wdisnMmjULMTExiImJwaFDh3DixAm0aNECH374oalDy3WaEW2FQoFmzZqZOhwy0JUrVwAA5cuX19tWrFgxODo6autQ/sZLhHlIdHQ0AGDLli04duwYNm3ahNjYWFy4cAHt27fH7t278Z///MfEUeYsPz8/bNiwAbdu3UJiYiIuXLiAL7/8EteuXUOLFi1w9+5dU4eYo/bv34+5c+di4sSJKFOmjKnDMZlZs2Zh3LhxmD17Nk6cOIHevXtjw4YNepfPCoPRo0fj7Nmz6Nu3b6EdwStIYmNjASDLP5Tt7e21dSh/Y4KVAxwdHbNcaiCzl2bIOD09HUDGX6zz589Hhw4dYG9vDx8fH6xduxbu7u5Yt24dbt26ZcKje73sHj8A9O3bF506dULp0qVhZWUFHx8fzJw5E8OHD8ejR48wc+ZM0x3YG8ru8SckJKBfv36oX7++3ghefmLI+68RGRkJEcG9e/ewatUq7Nu3D3Xr1sXt27dz/4DekjGOX2PhwoWYNGkSfH19MXv27Nw7CAMZ8xwQ5Ve8RJgDAgICEB8f/8b1nZ2dAfzvLxozMzO0adNGp45SqUSLFi2waNEi/P3333BzczNewEaW3eN/lf79+2PixIk4dOiQIaHliuwe/7fffou7d+9i27ZtKFIk//7tY8z339nZGQEBAShXrhzq1KmDoUOHYs2aNcYIM8cY6/iXLFmCjz76CFWrVsXu3btha2trrBBzXE78DigoNL/nsxqliouLKxTTQAoDJlg5ILtr1VSoUAEAYG1tnemlEM26UImJidmOLTfkxFo9mjWw8sNik9k9/tOnT+P58+dZLqg6cuRIjBw5El988QVmzZplQIQ5Kyfe/9q1a6NYsWL5YqTDGMcfHByMgQMHolKlSti7dy8cHByMEFnuKQzrdWWXZu7VlStXUKtWLZ1tT548wcOHDwvVDU0FGROsPKRs2bJwd3fHzZs3cfv2bb3b88+fPw8A8PT0NEF0pnX06FEABfvY27Rpg3LlyumVX7lyBQcOHEDt2rVRrVo11K9f3wTRmdbTp08RGxtbKEY6goODMWDAAFSsWBFhYWEoUaKEqUMiI/Lz88OkSZOwa9cu9OjRQ2eb5sYWPz8/U4RGxmbqhbhI18SJEwWA9OnTR9LS0rTl+/btE4VCIZ6engV2sdF79+7J1atX9cpv374tPj4+AkBCQ0NNEJlpLVmypFAsNBoZGZnpArPJycnSv39/ASD9+/fP/cBy0aJFi0ShUEjFihUlKirK1OGYXEFdaNTLy0uUSqWcOnVKW/7iQqOXLl0yXYC5rCAvNMoRrDxmyJAh2LJlC5YvX47z58+jcePGuHfvHjZs2AClUong4OACuxbOxYsX8f7776Nhw4bw8fFB8eLFERkZiS1btiAhIQGBgYHo1q2bqcOkHHLq1Cl07twZjRo1Qvny5eHo6Ij79+9jz549uHXrFipUqIAffvjB1GHmmLCwMAwcOBAigsaNG+OXX37Rq1OjRg107Ngx94PLRX/++ScWLVoEAHjw4IG2TPM8Qh8fH4wYMcJU4RnM3NwcixYtgr+/Pxo1aoSAgADY29tj48aNuH79OiZMmABvb29Th5mjFi1ahD///BMAcPbsWW2ZZgpAx44dC8bn3NQZHulLSEiQ0aNHS7ly5cTS0lKKFy8uH3zwgZw+fdrUoeWomzdvyoABA6RatWpSrFgxMTc3FwcHB2nevHmhHLnSKCwjWDdu3JDBgwdLrVq1xMHBQczMzEStVku9evVkypQp8vTpU1OHmKM07/OrXgVpJCcrrzsPfn5+pg7RKI4ePSotW7YUtVotKpVK3nnnHVmxYoWpw8oVmkeiZfUaM2aMqUM0CoWISC7mc0REREQFXv69F5yIiIgoj2KCRURERGRkTLCIiIiIjIwJFhEREZGRMcEiIiIiMjImWERERERGxgSLiIiIyMiYYBEREREZGRMsIiIiIiNjgkVEeZJCoYBCoTB1GIWWp6en9j1QKBR47733jLr/WbNm6exfoVAgMjLSqH0QmRITLKICSvMFGRISYupQ8p1NmzZh7NixOH36dLb38ejRI3z33XeoWbMm7OzsoFQq4erqitq1a+Pzzz/Hhg0bkJ6ertfu2bNnmDZtGurXr4+iRYvC0tISpUqVgq+vLwYOHIiVK1ciMTERABAUFKSXpLzJ620SmXfeeQfvvvsuqlat+sp627Ztw4cffoiyZcvC1tYWKpUKnp6e6Ny5M0JDQ5GSkqJT39XVFe+++y7effddKJXKN46HKL8wN3UARER5zaZNm7B06VJ4enqiRo0ab93+7NmzaN68Oe7fvw8AKF26NEqVKoX4+HicPn0aJ06cwNy5cxEfHw9bW1ttuzt37uD999/H5cuXAQDOzs4oV64ckpKScOHCBZw+fRqLFi3C2bNnUaVKFXh7e+Pdd9/V6//EiRNISkpC+fLl4eTkpLfdysrqjY9l3bp18PT0zHL7gwcP0L17d4SHhwMA7Ozs4OXlBQsLC9y8eRMbN27Exo0bUb58eezfvx+lSpUCAHTt2hVdu3YFkPHHwI0bN944JqL8gAkWEZERpaeno3v37rh//z7q1q2LxYsXo3LlytrtCQkJ2L59OxYsWKB3CbRfv364fPkyypcvj6VLl6J+/frabcnJydi7dy8WLVoEc/OMX93ffPMNvvnmG70YNAnLN998g6CgoJw5UACxsbFo2LChNuZp06ahdevWsLCw0NY5ceIEpk2bhnXr1uH+/fvaBIuooGOCRURkRMeOHcOFCxcAAOvXr0fp0qV1ttvY2KBLly7o0qWLTvm9e/ewa9cuAMCSJUt0kisAsLS0RKtWrdCqVascjP7tfPrpp7h8+TIqVaqEAwcOwMHBQa/OO++8gzVr1qBHjx6wsbExQZREpsE5WEQEAIiKisKcOXPg7+8PT09PWFlZoVixYvDz88Py5cszbRMZGQmFQqG9hLRixQq88847sLa2RvHixdG1a1dERERk2ec///yDDh06oFixYrC1tUXdunURGhr6yjhv3LiBQYMGwcvLC0qlUntJ6oMPPtBrm5aWhs2bN6Nfv36oXLky1Go1rK2tUbFiRXz99dd4+PBhpsezdOlSAEDfvn115i6NHTv2NWcR2uN1dHTUS65e5fr169r/z85lydx29epVrF69GgCwePHiTJOrF33wwQcoX758boRGlCdwBIuIAACLFi3C6NGjoVKp4OLigqpVqyI6OhoHDhzAgQMHcPjwYfzyyy9Zth85ciQmT54MDw8PeHt74+LFi1i/fj0OHTqEf/75B46Ojjr1Dxw4gJYtWyIxMRH29vaoWLEibt68iYCAANy6dSvTPiIjI1G7dm08fPgQ1tbWqFChAszMzHDz5k1s2rQJ169fR48ePbT17927h44dO6JIkSIoWbIkypUrh2fPniEyMlJ72eqvv/5CyZIlAWTMTXr33Xdx5coVREdH681hcnd3f+15tLe3B5AxyT0iIgJeXl6vbfNiOyBjFKxJkyZv1M5U1q5di/T0dPj6+qJevXqmDoco7xEiKpA8PDwEgCxZsuSN6h88eFDCwsIkNTVVp/zMmTNSsWJFASD79u3T2Xb9+nUBIObm5mJvby/btm3Tbrt3755Uq1ZNAMjw4cN12j19+lRKly4tAOTDDz+UhIQEERFJS0uTGTNmiIWFhQCQl39FffbZZwJAAgMDJT4+XmfbhQsXZMGCBTplMTExEhISIo8ePdIpf/LkiXZfQUFBeuciMDDwrc7dy/u2sbERAFKuXDkJCQmR6Ojo17ZLS0sTd3d3ASDOzs4yd+5cuXXr1lv3L/L27/2r9nH9+vVMt7dp00YAyJdffpntPt60L6L8iAkWUQFljC9ZjT179ggAGThwoE65JsECIDNmzNBr9/vvvwsAqVatmk75okWLBIC4urpKcnKyXrv27dtnmmD5+/sLADlz5ozBxyQi4ubmJtbW1pKSkqJTbkiCJSKydOlSMTMz0x4DAClTpoz06NFDFi9eLHFxcZm22717t1hbW+u0c3FxkY4dO8qcOXPkwYMHb9R/biRYNWrUEAAye/bsbPfxpn0R5Uecg0VEWvHx8fj1118RGBiIFi1aoFGjRmjYsCFGjBgBADhz5kyWbfv3769XVrt2bQDQm4e1c+dObZsX7zjT+OSTTzLtw83NDUDG5HEReYMjyhAWFobBgwejTZs2aNy4MRo2bIiGDRsiNjYWz549w5UrV954X2/iww8/xPHjx9G9e3dYW1sDyJhjFRoaiv79+6NMmTJYt26dXrtmzZrhzJkzGDBgAIoWLQoAuHv3LjZt2oTPP/8cnp6emDNnjlFjza74+HgA4MR1oixwDhYRAQBOnTqFtm3b4u7du1nWefz4cabljo6OUKvVeuWa+UtPnz7VKdes81SxYsVM95dV+aeffoqlS5di/PjxWLZsGVq2bIlGjRqhSZMmcHFx0aufnJyM7t27Y9OmTVkeE5D1cRnC19dXu8DmqVOncOzYMezYsQO7du3Co0eP0KNHDzg6OurNtSpXrhx+/fVXLFiwAP/88w+OHz+OXbt2Ydu2bUhISMB///tfqNVqfPjhh0aP+W3Y2dkByFh2goj0cQSLiJCWloZu3brh7t27aN26Nfbv34+HDx8iNTUVIqId4Xl5NW6NrEYxihTJ/FeMJuEqUaJEpts1k85fVqNGDRw4cAAtWrTAnTt3sGDBAvTu3RulS5eGv7+/dnkEjcmTJ2PTpk1wdnbGsmXLEBkZiefPn0MypkdoF+nM6riMwcLCAnXq1MFnn32GLVu24NSpU3BxcUF6ejomTpyYZbsiRYqgRo0aGDhwINatW4cLFy5oV1MfP358jsX7plxdXQHo3v1IRP/DBIuIcOzYMVy9ehUeHh7YuHEjGjduDAcHB5iZmQFAlnf1ZZdm9fIHDx5kuj06OjrLtvXq1cPOnTvx5MkT7NixA8OHD0fp0qWxa9cuNG/eHDExMdq6K1euBACEhISgT58+8PDw0Hksi7GP601UrlwZ3377LYCM8/6m3N3dMXnyZAAZSyQ8efIkR+J7Uw0aNAAA7N+/36RxEOVVTLCISPtsulq1amX6XLhXzb3KDm9vbwDAxYsXM93+8khUZmxtbeHv74/Jkyfj4sWLKFu2LO7cuYPt27dr62iOS5MMvOjRo0e4c+dOpvvO6YdMa5ZuSE5Ozla77LQ1tq5du6JIkSI4deoU/vrrL5PGQpQXMcEiIqhUKgDQPjvvRSkpKZg1a5ZR+2vRogWAjAUqM7s89/PPP7/V/qytrbWXz16cQ/aq45oxYwbS0tIy3Z+mneahym/jyZMnSE1NfWWdw4cPA4DOwpsJCQl49uzZG7UrWrRolpdXc0v58uXRvXt3ABk3K7xuHtumTZuMfjMBUV7GBIuIUK9ePZibm+PQoUNYtmyZtjw2Nha9evXKNEExREBAAFxdXXH79m0MGjRIm8iICGbPno1t27Zl2u7jjz/GmjVr9BKRAwcOYO/evQCAmjVrassbNmwIABg6dKh23peIYNmyZZg+fXqWDz3WjBQdOHDgre5WBDIumVWoUAEzZ87UGyFLTEzETz/9hClTpgDIWCle48qVK/Dy8sL48eNx7do1nXapqalYvnw5hgwZAiDjLsWs5rflpnnz5qFs2bI4f/486tWrh99//10vYT59+jR69uyJTp06cUI8FS4mXCKCiHKQZm0hW1tbcXBwyPJ19uxZEREZNmyYdu0ld3d3qVWrlqhUKrGwsJBffvlFAIiHh4dOH5p1sF4ufxEyWc9KRCQsLEyUSqUAEHt7e6ldu7Y4OzsLAJk6dWqm7apXr65d2LRixYpSp04d7XECkN69e+vUP3HihE4ftWrVEhcXFwEgffr0ET8/PwEg4eHhOu2uXr0qlpaW2mNr1KiR+Pn5vdG6Ups2bdJZx6p06dJSu3ZtqVixos4aVz169NBZf+v06dM67ZycnKRWrVpSpUoVsbOz05a/9957eousviw31sHSiIqKksaNG2vjs7Ozk+rVq0utWrXEyclJW+7j4yN37941qC+i/IQJFlEB9WLi8arXqVOnREQkPT1dZs2aJT4+PmJpaSmOjo7Srl07+euvv7JMpAxJsERETp06Je3atRO1Wi02NjZSu3ZtWb16dZbtwsLC5IsvvpCaNWtKiRIlxNLSUjw8PMTf319+//13SU9P1+vj6NGj0rx5c7G1tRUbGxupUaOG/PTTT5Kenp5lgiUisnPnTvHz8xN7e3tRKBQCQMaMGZPlcWqkpaXJkSNH5LvvvhM/Pz8pU6aMWFlZiZWVlXh6ekrXrl1ly5YtmbY9ffq0TJo0SZo1ayblypUTGxsbsbS0FFdXV2nXrp2sXLlS0tLSXhtDbiZYGn/88Yf06tVLypQpI9bW1qJUKsXDw0M6d+4sa9as0VvM1ZC+iPIDhchbjn8TEVGB5+npiRs3buD69evah3kXhL6IcgsXGiUioix17doVSqUSvr6+Rl1Fft26dZg9ezYAICoqymj7JcormGAREVGWTpw4AQAwNzfu18WdO3dw6NAho+6TKC/hJUIiIiIiIzP9fb5EREREBQwTLCIiIiIjY4JFREREZGRMsIiIiIiMjAkWERERkZExwSIiIiIyMiZYREREREbGBIuIiIjIyJhgERERERkZEywiIiIiI2OCRURERGRkTLCIiIiIjIwJFhEREZGRMcEiIiIiMjImWERERERGxgSLiIiIyMj+D+NSSp4DJycCAAAAAElFTkSuQmCC' width=600.0/>\n",
       "            </div>\n",
       "        "
      ],
      "text/plain": [
       "Canvas(toolbar=Toolbar(toolitems=[('Home', 'Reset original view', 'home', 'home'), ('Back', 'Back to previous …"
      ]
     },
     "metadata": {},
     "output_type": "display_data"
    }
   ],
   "source": [
    "fig, ax = plt.subplots(nrows=1, ncols=1, sharey=True,figsize=(6, 4))\n",
    "xi = np.arange(-6.0,2.0,1.0)\n",
    "\n",
    "data = df3  # Data all aggregated in espg 3031\n",
    "data0 = df0  # Half of data is aggregated after reprojecting to espg 4236\n",
    "\n",
    "a1 = ax\n",
    "a1.tick_params(labelsize=14)\n",
    "a1.scatter(data[Ldata],data[Mdata],color='k',linewidth=0,s=35,label='Aggregation in espg 3031') #'_no label_')\n",
    "a1.scatter(data0[Ldata],data0[Mdata],color='r',linewidth=0,s=35,alpha=0.7,label='Aggregate taken after reproject to WGS84')\n",
    "a1.spines['top'].set_visible(False)\n",
    "a1.spines['right'].set_visible(False)\n",
    "# a1.set_xlim([-5,1.5])\n",
    "# a1.set_ylim([-1.8,2.0])\n",
    "a1.set_ylabel('MODIS SST [C]',fontsize=16)\n",
    "a1.set_xlabel('Landsat SST [C]',fontsize=16)\n",
    "a1.legend(markerscale=1,fontsize=12,loc='upper left')\n",
    "\n",
    "plt.tight_layout()\n",
    "# plt.savefig('/Users/tsnow03/GoogleDrive/User/Docs/PhD_Project/Manuscripts/AmundsenCC_Manuscript/Figures/LMCalibration.jpg', format='jpg', dpi=1000)\n",
    "plt.show()"
   ]
  },
  {
   "cell_type": "markdown",
   "metadata": {
    "user_expressions": []
   },
   "source": [
    "These points don't match up, so we need to worry about using rioxarray for reprojections..."
   ]
  },
  {
   "cell_type": "markdown",
   "metadata": {
    "user_expressions": []
   },
   "source": [
    "## Unused code"
   ]
  },
  {
   "cell_type": "code",
   "execution_count": 9,
   "metadata": {},
   "outputs": [
    {
     "name": "stderr",
     "output_type": "stream",
     "text": [
      "DEBUG:rasterio.env:Entering env context: <rasterio.env.Env object at 0x1180b7b90>\n",
      "DEBUG:rasterio.env:Starting outermost env\n",
      "DEBUG:rasterio.env:No GDAL environment exists\n",
      "DEBUG:rasterio.env:New GDAL environment <rasterio._env.GDALEnv object at 0x1224eca50> created\n",
      "DEBUG:rasterio._env:GDAL_DATA found in environment: u'/usr/local/lib/python2.7/site-packages/fiona/gdal_data'.\n",
      "DEBUG:rasterio._env:PROJ data files are available at built-in paths\n",
      "DEBUG:rasterio._env:Started GDALEnv <rasterio._env.GDALEnv object at 0x1224eca50>.\n",
      "DEBUG:rasterio.env:Entered env context: <rasterio.env.Env object at 0x1180b7b90>\n",
      "DEBUG:rasterio._base:Sharing flag: 0\n",
      "DEBUG:rasterio._base:Nodata success: 1, Nodata value: nan\n",
      "DEBUG:rasterio._base:Dataset <open DatasetReader name='/Volumes/LaCieHulkedOut/SST_Thwaites/L8/LC08_L1GT_001113_20131012_20170429_01_T2/LC08_L1GT_001113_20131012_20170429_01_T2_Cel_atm.tif' mode='r'> is started.\n",
      "DEBUG:rasterio.env:Exiting env context: <rasterio.env.Env object at 0x1180b7b90>\n",
      "DEBUG:rasterio.env:Cleared existing <rasterio._env.GDALEnv object at 0x1224eca50> options\n",
      "DEBUG:rasterio._env:Stopped GDALEnv <rasterio._env.GDALEnv object at 0x1224eca50>.\n",
      "DEBUG:rasterio.env:Exiting outermost env\n",
      "DEBUG:rasterio.env:Exited env context: <rasterio.env.Env object at 0x1180b7b90>\n",
      "DEBUG:rasterio.env:Entering env context: <rasterio.env.Env object at 0x1224eca50>\n",
      "DEBUG:rasterio.env:Starting outermost env\n",
      "DEBUG:rasterio.env:No GDAL environment exists\n",
      "DEBUG:rasterio.env:New GDAL environment <rasterio._env.GDALEnv object at 0x1180b7b90> created\n",
      "DEBUG:rasterio._env:GDAL_DATA found in environment: u'/usr/local/lib/python2.7/site-packages/fiona/gdal_data'.\n",
      "DEBUG:rasterio._env:PROJ data files are available at built-in paths\n",
      "DEBUG:rasterio._env:Started GDALEnv <rasterio._env.GDALEnv object at 0x1180b7b90>.\n",
      "DEBUG:rasterio.env:Entered env context: <rasterio.env.Env object at 0x1224eca50>\n",
      "DEBUG:rasterio.env:Exiting env context: <rasterio.env.Env object at 0x1224eca50>\n",
      "DEBUG:rasterio.env:Cleared existing <rasterio._env.GDALEnv object at 0x1180b7b90> options\n",
      "DEBUG:rasterio._env:Stopped GDALEnv <rasterio._env.GDALEnv object at 0x1180b7b90>.\n",
      "DEBUG:rasterio.env:Exiting outermost env\n",
      "DEBUG:rasterio.env:Exited env context: <rasterio.env.Env object at 0x1224eca50>\n"
     ]
    }
   ],
   "source": [
    "# Simple boundary boxes for Cosgrove, Trough/Central, PIG, not used at the moment\n",
    "latboundsC = [ -73.5 , -73.42 ]\n",
    "lonboundsC = [ -103.0 , -102.0 ]\n",
    "latboundsT = [ -73.6 , -73.4 ]\n",
    "lonboundsT = [ -105.0 , -104.4 ]\n",
    "latboundsP = [ -74.9 , -74.75 ]\n",
    "lonboundsP = [ -103.1 , -102.2 ]"
   ]
  },
  {
   "cell_type": "code",
   "execution_count": null,
   "metadata": {},
   "outputs": [],
   "source": [
    "fig, ax = plt.subplots(nrows=1, ncols=1, sharey=True,figsize=(6, 4))\n",
    "xi = np.arange(-6.0,2.0,1.0)\n",
    "\n",
    "data = df3  # Data all aggregated in espg 3031\n",
    "data2 = df0  # Half of data is aggregated after reprojecting to espg 4236\n",
    "\n",
    "a1 = ax\n",
    "a1.tick_params(labelsize=14)\n",
    "a1.scatter(data[Ldata],data[Mdata],color='k',linewidth=0,s=35,label='Aggregation in espg 3031') #'_no label_')\n",
    "a1.scatter(data2[Ldata],data2[Mdata],color='r',linewidth=0,s=35,alpha=0.7,label='Aggregate taken after reproject to WGS84')\n",
    "# a1.scatter(MLdf['LTTemp'],MLdf['MTMean'],color='C3',linewidth=0,s=35,label='Central')\n",
    "# a1.scatter(MLdf['LPTemp'],MLdf['MPMean'],color='b',linewidth=0,s=35,label='PIG')\n",
    "a1.plot(xi,xi*lreg.coef_[0]+lreg.intercept_[0],color='k',linewidth=2,label='RANSAC regression')\n",
    "# a1.plot(xi,xi*resultC.params[1]+resultC.params[0],color='0.6',linewidth=1.5,label='Linear regression')\n",
    "a1.text(-2,-1.7,'y=0.34x+0.38 acc=0.5',fontsize=14)\n",
    "a1.spines['top'].set_visible(False)\n",
    "a1.spines['right'].set_visible(False)\n",
    "# a1.set_xlim([-5,1.5])\n",
    "# a1.set_ylim([-1.8,2.0])\n",
    "a1.set_ylabel('MODIS SST [C]',fontsize=16)\n",
    "a1.set_xlabel('Landsat SST [C]',fontsize=16)\n",
    "a1.legend(markerscale=1,fontsize=12,loc='upper left')\n",
    "\n",
    "# a2 = ax[1]\n",
    "# a2.tick_params(labelsize=14)\n",
    "# a2.scatter(MLdf['LCTemp_unc'],MLdf['MCMean'],color='k',linewidth=0,s=35,label='_no label_')\n",
    "# # a2.scatter(MLdf['LTTemp_unc'],MLdf['MTMean'],color='C3',linewidth=0,s=35,label='Central')\n",
    "# # a2.scatter(MLdf['LPTemp_unc'],MLdf['MPMean'],color='b',linewidth=0,s=35,label='PIG')\n",
    "# a2.plot(xi,xi*lregu.coef_[0]+lregu.intercept_[0],color='k',linewidth=2,label='_no label_')\n",
    "# a2.plot(xi,xi*resultCu.params[1]+resultCu.params[0],color='0.6',linewidth=1.5,label='_no label_')\n",
    "# a2.spines['top'].set_visible(False)\n",
    "# a2.spines['right'].set_visible(False)\n",
    "# a2.set_xlim([-5,1.5])\n",
    "# a2.set_xlabel('Landsat SST [C]',fontsize=16)\n",
    "\n",
    "plt.tight_layout()\n",
    "# plt.savefig('/Users/tsnow03/GoogleDrive/User/Docs/PhD_Project/Manuscripts/AmundsenCC_Manuscript/Figures/LMCalibration.jpg', format='jpg', dpi=1000)\n",
    "plt.show()"
   ]
  }
 ],
 "metadata": {
  "kernelspec": {
   "display_name": "Python 3 (ipykernel)",
   "language": "python",
   "name": "python3"
  },
  "language_info": {
   "codemirror_mode": {
    "name": "ipython",
    "version": 3
   },
   "file_extension": ".py",
   "mimetype": "text/x-python",
   "name": "python",
   "nbconvert_exporter": "python",
   "pygments_lexer": "ipython3",
   "version": "3.10.11"
  }
 },
 "nbformat": 4,
 "nbformat_minor": 4
}
